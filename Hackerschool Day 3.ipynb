{
 "cells": [
  {
   "attachments": {},
   "cell_type": "markdown",
   "metadata": {
    "slideshow": {
     "slide_type": "skip"
    }
   },
   "source": [
    "$\n",
    "\\newcommand{\\nc}{\\newcommand} \n",
    "\\nc{\\t}{\\text}\n",
    "\\nc{\\tb}{\\textbf}\n",
    "\\nc{\\ti}{\\textit}\n",
    "$"
   ]
  },
  {
   "attachments": {},
   "cell_type": "markdown",
   "metadata": {
    "slideshow": {
     "slide_type": "slide"
    }
   },
   "source": [
    "# $$\\textbf{Hackerschool } $$\n",
    "\n",
    "#### $$\\text{Tag 3}$$\n",
    "#### $$\\text{Claudia Oviesu und Leon Plumpe}$$\n"
   ]
  },
  {
   "attachments": {},
   "cell_type": "markdown",
   "metadata": {
    "slideshow": {
     "slide_type": "slide"
    }
   },
   "source": [
    "## $$\\textbf{Allgemeiner Kursüberblick}$$\n",
    "<hr>"
   ]
  },
  {
   "attachments": {},
   "cell_type": "markdown",
   "metadata": {},
   "source": [
    "* Wiederholung Tag 2\n",
    "    * Übungen "
   ]
  },
  {
   "attachments": {},
   "cell_type": "markdown",
   "metadata": {},
   "source": [
    "* Module\n",
    "    * Paketimport\n",
    "    * Übungen\n",
    "    "
   ]
  },
  {
   "attachments": {},
   "cell_type": "markdown",
   "metadata": {},
   "source": [
    " * Map\n",
    "    * Grundprinzip\n",
    "    * Wofür ist Map sinnvoll?\n",
    "    * Übungen"
   ]
  },
  {
   "attachments": {},
   "cell_type": "markdown",
   "metadata": {
    "slideshow": {
     "slide_type": "fragment"
    }
   },
   "source": [
    "* Filter\n",
    "    * Grundprinzip\n",
    "    * Übungen"
   ]
  },
  {
   "attachments": {},
   "cell_type": "markdown",
   "metadata": {},
   "source": [
    "* Reduce\n",
    "    * Definition\n",
    "    * Wofür ist Reduce sinnvoll?"
   ]
  },
  {
   "attachments": {},
   "cell_type": "markdown",
   "metadata": {},
   "source": [
    "* Dictionary"
   ]
  },
  {
   "attachments": {},
   "cell_type": "markdown",
   "metadata": {},
   "source": [
    "* Einführung in die objektorientierte Programmierung\n",
    "    * Klassen\n",
    "    * Attribute"
   ]
  },
  {
   "attachments": {},
   "cell_type": "markdown",
   "metadata": {},
   "source": [
    "* Attribute"
   ]
  },
  {
   "attachments": {},
   "cell_type": "markdown",
   "metadata": {
    "slideshow": {
     "slide_type": "slide"
    }
   },
   "source": [
    "## $$\\textbf{Wiederholung Tag 2}$$\n",
    "<hr>"
   ]
  },
  {
   "attachments": {},
   "cell_type": "markdown",
   "metadata": {
    "slideshow": {
     "slide_type": "fragment"
    }
   },
   "source": [
    "* Damit ihr das, was wir euch am Tag zuvor beigebracht haben, nicht so schnell vergesst, haben wir euch hier ein paar Aufgaben zusammengestellt\n",
    "<br>\n",
    "<br>\n"
   ]
  },
  {
   "attachments": {},
   "cell_type": "markdown",
   "metadata": {},
   "source": [
    "Aufgabe: \n",
    "Gegeben ist eine Liste von Zahlen. Erstelle zwei separate Listen, eine für gerade und eine für ungerade Zahlen, indem du List Comprehension verwendest.\n",
    "```python\n",
    "# Gegebene Liste von Zahlen\n",
    "zahlen = [1, 2, 3, 4, 5, 6, 7, 8, 9, 10]\n",
    "``` "
   ]
  },
  {
   "cell_type": "code",
   "execution_count": null,
   "metadata": {},
   "outputs": [],
   "source": [
    "\n",
    "\n",
    "# Lösung \n",
    "gerade_zahlen = [zahl for zahl in zahlen if zahl % 2 == 0]\n",
    "ungerade_zahlen = [zahl for zahl in zahlen if zahl % 2 != 0]\n",
    "\n",
    "print(\"Gerade Zahlen:\", gerade_zahlen)\n",
    "print(\"Ungerade Zahlen:\", ungerade_zahlen)\n"
   ]
  },
  {
   "attachments": {},
   "cell_type": "markdown",
   "metadata": {},
   "source": [
    "Aufgabe:\n",
    "Schreibe eine rekursive Funktion zahlenreihe(start, end), die eine Zahlenreihe von start bis end ausgibt. Der Nutzer soll gefragt werden, wo der Start und das Ende sein sollen."
   ]
  },
  {
   "cell_type": "code",
   "execution_count": 1,
   "metadata": {},
   "outputs": [
    {
     "name": "stdout",
     "output_type": "stream",
     "text": [
      "1\n",
      "2\n",
      "3\n",
      "4\n",
      "5\n"
     ]
    }
   ],
   "source": [
    "# Lösung für die Aufgabe\n",
    "start = input(\"Mit welcher Zahl soll die Zahlenreihe beginnen?\")\n",
    "ende = input(\"Mit welcher Zahl soll die Zahlenreihe enden?\")\n",
    "def zahlenreihe(start, end):\n",
    "    if start > end:\n",
    "        return\n",
    "    print(start)\n",
    "    zahlenreihe(start + 1, end)\n",
    "\n",
    "# Funktion aufrufen\n",
    "start = 1\n",
    "ende = 5\n",
    "zahlenreihe(start, ende)\n"
   ]
  },
  {
   "attachments": {},
   "cell_type": "markdown",
   "metadata": {
    "slideshow": {
     "slide_type": "slide"
    }
   },
   "source": [
    "### $$\\textbf{Übungen}$$\n",
    "<hr>"
   ]
  },
  {
   "attachments": {},
   "cell_type": "markdown",
   "metadata": {},
   "source": [
    "Aufgabe 1: Schreibe ein Programm, das den Benutzer nach seinem Namen fragt und dann überprüft, ob der Name \"Max\" ist. Wenn ja, soll das Programm \"Hallo Max!\" ausgeben. Andernfalls soll es \"Du bist nicht Max!\" ausgeben."
   ]
  },
  {
   "cell_type": "code",
   "execution_count": null,
   "metadata": {},
   "outputs": [],
   "source": [
    "name = input(\"Wie lautet dein Name? \")\n",
    "\n",
    "if name == \"Max\":\n",
    "    print(\"Hallo Max!\")\n",
    "else:\n",
    "    print(\"Du bist nicht Max!\")"
   ]
  },
  {
   "attachments": {},
   "cell_type": "markdown",
   "metadata": {},
   "source": [
    "Aufgabe 2:\n",
    "Schreibe ein Programm, das den Benutzer nach seinem Alter fragt und dann überprüft, ob er/sie alt genug ist, um Achterbahn zu fahren. Das Mindestalter beträgt 12 Jahre. Wenn das Alter ausreicht, soll das Programm \"Du darfst Achterbahn fahren!\" ausgeben. Andernfalls soll es \"Du bist noch zu jung für die Achterbahn!\" ausgeben."
   ]
  },
  {
   "cell_type": "code",
   "execution_count": null,
   "metadata": {},
   "outputs": [],
   "source": [
    "alter = int(input(\"Wie alt bist du? \"))\n",
    "\n",
    "if alter >= 12:\n",
    "    print(\"Du darfst Achterbahn fahren!\")\n",
    "else:\n",
    "    print(\"Du bist noch zu jung für die Achterbahn!\")\n"
   ]
  },
  {
   "attachments": {},
   "cell_type": "markdown",
   "metadata": {},
   "source": [
    "Aufgabe 3:\n",
    "Schreibe ein Programm, das den Benutzer nach einer Zahl fragt und überprüft, ob die Zahl gerade oder ungerade ist. Wenn die Zahl gerade ist, soll das Programm \"Die Zahl ist gerade!\" ausgeben. Andernfalls soll es \"Die Zahl ist ungerade!\" ausgeben."
   ]
  },
  {
   "cell_type": "code",
   "execution_count": null,
   "metadata": {},
   "outputs": [],
   "source": [
    "zahl = int(input(\"Gib eine Zahl ein: \"))\n",
    "\n",
    "if zahl % 2 == 0:\n",
    "    print(\"Die Zahl ist gerade!\")\n",
    "else:\n",
    "    print(\"Die Zahl ist ungerade!\")\n"
   ]
  },
  {
   "attachments": {},
   "cell_type": "markdown",
   "metadata": {},
   "source": [
    "Aufgabe 4:\n",
    "Schreibe ein Programm, das den Benutzer nach einer Punktzahl in einem Spiel fragt und dann überprüft, ob er/sie den Highscore erreicht hat. Der Highscore beträgt 100 Punkte. Wenn die Punktzahl den Highscore erreicht oder übertrifft, soll das Programm \"Glückwunsch! Du hast den Highscore erreicht!\" ausgeben. Andernfalls soll es \"Leider hast du den Highscore nicht erreicht. Versuche es erneut!\" ausgeben."
   ]
  },
  {
   "cell_type": "code",
   "execution_count": null,
   "metadata": {},
   "outputs": [],
   "source": [
    "punktzahl = int(input(\"Gib deine Punktzahl ein: \"))\n",
    "\n",
    "highscore = 100\n",
    "\n",
    "if punktzahl >= highscore:\n",
    "    print(\"Glückwunsch! Du hast den Highscore erreicht!\")\n",
    "else:\n",
    "    print(\"Leider hast du den Highscore nicht erreicht. Versuche es erneut!\")\n"
   ]
  },
  {
   "attachments": {},
   "cell_type": "markdown",
   "metadata": {},
   "source": [
    "Aufgabe 5:\n",
    "Schreibe ein Programm, das den Benutzer nach einer geheimen Zahl zwischen 1 und 10 fragt und dann überprüft, ob die eingegebene Zahl mit der geheimen Zahl übereinstimmt. Wenn die Zahl richtig geraten wurde, soll das Programm \"Glückwunsch! Du hast die geheime Zahl gefunden!\" ausgeben. Andernfalls soll es \"Leider hast du die geheime Zahl nicht gefunden. Versuche es erneut!\" ausgeben."
   ]
  },
  {
   "cell_type": "code",
   "execution_count": 1,
   "metadata": {},
   "outputs": [
    {
     "name": "stdout",
     "output_type": "stream",
     "text": [
      "Leider hast du die geheime Zahl nicht gefunden. Versuche es erneut!\n"
     ]
    }
   ],
   "source": [
    "geheime_zahl = 7  # Hier kannst du eine andere geheime Zahl festlegen\n",
    "\n",
    "zahl = int(input(\"Rate eine Zahl zwischen 1 und 10: \"))\n",
    "\n",
    "if zahl == geheime_zahl:\n",
    "    print(\"Glückwunsch! Du hast die geheime Zahl gefunden!\")\n",
    "else:\n",
    "    print(\"Leider hast du die geheime Zahl nicht gefunden. Versuche es erneut!\")\n"
   ]
  },
  {
   "attachments": {},
   "cell_type": "markdown",
   "metadata": {},
   "source": [
    "Aufgabe 6: \n",
    "Schreibe ein Programm, indem du die Maße des Quaders eingeben kannst. Das Programm soll in der Lage dein das Volumen, die Oberfläche und die Diagonale zu berechnen. Außerdem soll das Programm dich darauf hinweisen eine positive Zahl einzugeben, sobald du eine negative Zahl (-1,-2,-3...) eingibst."
   ]
  },
  {
   "cell_type": "code",
   "execution_count": 3,
   "metadata": {},
   "outputs": [
    {
     "name": "stdout",
     "output_type": "stream",
     "text": [
      "Gebe die die Maße des Quaders an!\n",
      "a muss positiv sein!\n"
     ]
    }
   ],
   "source": [
    "\n",
    "print (\"Gebe die die Maße des Quaders an!\")\n",
    "a = int(input(\"a: \"))\n",
    "b = int(input(\"b: \"))\n",
    "c = int(input(\"c: \"))\n",
    "if a<0:\n",
    "   print(\"a muss positiv sein!\" )\n",
    "elif b<0:\n",
    "    print(\"b muss positiv sein!\")\n",
    "elif c<0:\n",
    "    print(\"c muss positiv sein!\")\n",
    "else:\n",
    "        volumen = a * b * c\n",
    "        oberflaeche = 2*a*b + 2*a*c + 2*b*c\n",
    "        print(\"Volumen: \"+ str(volumen))\n",
    "        print(\"Oberfläche: \" + str(oberflaeche))\n",
    "        diagonale = (a*a + b*b + c*c)**(0.5)\n",
    "        print(\"Raumdiagonale: \" + str(diagonale))"
   ]
  },
  {
   "attachments": {},
   "cell_type": "markdown",
   "metadata": {},
   "source": [
    "## $$\\textbf{Module}$$\n",
    "<hr>"
   ]
  },
  {
   "attachments": {},
   "cell_type": "markdown",
   "metadata": {},
   "source": [
    "* Stell dir vor, du möchtest ein großes Projekt wie ein Haus bauen\n",
    "* In Python sind Module Sammlungen von Code, die von anderen Programmen verwendet werden können\n",
    "* Du kannst dir ein Modul als eine Art Werkzeugkasten vorstellen, der spezielle Funktionen und Werkzeuge enthält, die du in deinem Code verwenden kannst"
   ]
  },
  {
   "attachments": {},
   "cell_type": "markdown",
   "metadata": {},
   "source": [
    "* Angenommen, du möchtest ein Programm schreiben, das die Fläche von verschiedenen Formen berechnen kann\n",
    "* Hierfür könntest du ein Modul namens \"formen\" erstellen\n",
    "* In diesem Modul würdest du spezielle Funktionen erstellen, die die Flächen von Kreisen, Rechtecken und Dreiecken berechnen können\n",
    "* Hier ist ein Beispiel, wie das aussehen könnte:\n",
    "```python\n",
    "# Das ist unser Modul \"formen.py\"\n",
    "\n",
    "def berechne_kreisflaeche(radius):\n",
    "    pi = 3.14159\n",
    "    return pi * radius * radius\n",
    "\n",
    "def berechne_rechteckflaeche(laenge, breite):\n",
    "    return laenge * breite\n",
    "\n",
    "def berechne_dreieckflaeche(grundseite, hoehe):\n",
    "    return 0.5 * grundseite * hoehe\n",
    "```\n",
    "\n",
    "* Wenn du ein Programm schreibst, das die Flächen von Formen berechnen soll, kannst du dieses Modul einbinden und die Funktionen nutzen, die du darin definiert hast:\n",
    "\n",
    "```python\n",
    "# Hier nutzen wir das Modul \"formen\", um die Flächen zu berechnen\n",
    "\n",
    "import formen\n",
    "\n",
    "radius = 5\n",
    "kreisflaeche = formen.berechne_kreisflaeche(radius)\n",
    "print(\"Die Fläche des Kreises beträgt:\", kreisflaeche)\n",
    "\n",
    "laenge = 4\n",
    "breite = 6\n",
    "rechteckflaeche = formen.berechne_rechteckflaeche(laenge, breite)\n",
    "print(\"Die Fläche des Rechtecks beträgt:\", rechteckflaeche)\n",
    "\n",
    "grundseite = 3\n",
    "hoehe = 8\n",
    "dreieckflaeche = formen.berechne_dreieckflaeche(grundseite, hoehe)\n",
    "print(\"Die Fläche des Dreiecks beträgt:\", dreieckflaeche)\n",
    "```\n",
    "* Indem du das Modul \"formen\" importierst, kannst du seine Funktionen verwenden, um die Flächen der Formen zu berechnen, ohne dass du den Code für die Flächenberechnung jedes Mal neu schreiben musst"
   ]
  },
  {
   "attachments": {},
   "cell_type": "markdown",
   "metadata": {},
   "source": [
    "### $$\\textbf{Wofür sind Module sinnvoll?}$$\n",
    "<hr>"
   ]
  },
  {
   "attachments": {},
   "cell_type": "markdown",
   "metadata": {},
   "source": [
    "* Sie ermöglichen es uns, Code zu organisieren, wiederzuverwenden und unsere Programme übersichtlicher zu gestalten\n",
    "* Module sind wie ein spezieller Werkzeugkasten, den du in deinem Projekt nutzen kannst, um bestimmte Aufgaben einfacher zu erledigen"
   ]
  },
  {
   "attachments": {},
   "cell_type": "markdown",
   "metadata": {},
   "source": [
    "### $$\\textbf{Aufgaben}$$\n",
    "<hr>"
   ]
  },
  {
   "attachments": {},
   "cell_type": "markdown",
   "metadata": {},
   "source": [
    "Aufgabe 7: \n",
    "Erstelle ein Modul namens \"rechner\", das Funktionen zum Addieren, Subtrahieren, Multiplizieren und Teilen von Zahlen enthält. Importiere dieses Modul in deinem Hauptprogramm und lass deinen Sitznachbarn zwei Zahlen eingeben und dann auswählen, welche der vier Operationen auf die Zahlen angewendet werden sollen."
   ]
  },
  {
   "cell_type": "code",
   "execution_count": null,
   "metadata": {},
   "outputs": [],
   "source": [
    "# rechner.py\n",
    "\n",
    "def addiere(a, b):\n",
    "    return a + b\n",
    "\n",
    "def subtrahiere(a, b):\n",
    "    return a - b\n",
    "\n",
    "def multipliziere(a, b):\n",
    "    return a * b\n",
    "\n",
    "def dividiere(a, b):\n",
    "    return a / b\n"
   ]
  },
  {
   "attachments": {},
   "cell_type": "markdown",
   "metadata": {},
   "source": [
    "\n",
    "```python\n",
    "# Hauptprogramm\n",
    "\n",
    "import rechner\n",
    "\n",
    "a = float(input(\"Gib die erste Zahl ein: \"))\n",
    "b = float(input(\"Gib die zweite Zahl ein: \"))\n",
    "\n",
    "print(\"1. Addieren\")\n",
    "print(\"2. Subtrahieren\")\n",
    "print(\"3. Multiplizieren\")\n",
    "print(\"4. Dividieren\")\n",
    "\n",
    "wahl = int(input(\"Wähle eine Operation (1/2/3/4): \"))\n",
    "\n",
    "if wahl == 1:\n",
    "    ergebnis = rechner.addiere(a, b)\n",
    "    print(\"Ergebnis:\", ergebnis)\n",
    "elif wahl == 2:\n",
    "    ergebnis = rechner.subtrahiere(a, b)\n",
    "    print(\"Ergebnis:\", ergebnis)\n",
    "elif wahl == 3:\n",
    "    ergebnis = rechner.multipliziere(a, b)\n",
    "    print(\"Ergebnis:\", ergebnis)\n",
    "elif wahl == 4:\n",
    "    ergebnis = rechner.dividiere(a, b)\n",
    "    print(\"Ergebnis:\", ergebnis)\n",
    "else:\n",
    "    print(\"Ungültige Auswahl\")\n",
    "```"
   ]
  },
  {
   "attachments": {},
   "cell_type": "markdown",
   "metadata": {},
   "source": [
    "Aufgabe 8: \n",
    "Erstelle ein Modul namens \"tiere\", das Funktionen enthält, die Tiergeräusche zurückgeben (z. B. \"Miau\" für Katze, \"Wuff\" für Hund). Importiere dieses Modul in deinem Hauptprogramm und lass deinen Sitznachbarn den Namen eines Tieres eingeben. Das Programm soll dann das entsprechende Geräusch ausgeben."
   ]
  },
  {
   "cell_type": "code",
   "execution_count": null,
   "metadata": {},
   "outputs": [],
   "source": [
    "# tiere.py\n",
    "\n",
    "def tiergeraeusch(tier):\n",
    "    tiergeraeusche = {\n",
    "        \"katze\": \"Miau\",\n",
    "        \"hund\": \"Wuff\",\n",
    "        \"vogel\": \"Piep\",\n",
    "        \"elefant\": \"Töröö\",\n",
    "        \"affe\": \"Uga Uga\"\n",
    "    }\n",
    "    return tiergeraeusche.get(tier.lower(), \"Unbekanntes Tier\")\n"
   ]
  },
  {
   "cell_type": "code",
   "execution_count": null,
   "metadata": {},
   "outputs": [],
   "source": [
    "# Hauptprogramm\n",
    "\n",
    "import tiere\n",
    "\n",
    "tiername = input(\"Gib den Namen eines Tieres ein: \")\n",
    "geraeusch = tiere.tiergeraeusch(tiername)\n",
    "\n",
    "print(\"Das Tiergeräusch ist:\", geraeusch)\n"
   ]
  },
  {
   "attachments": {},
   "cell_type": "markdown",
   "metadata": {},
   "source": [
    "Aufgabe 9: Superhelden-Quiz\n",
    "Erstelle ein Modul namens \"superhelden\", das eine Liste von Superhelden enthält. Importiere dieses Modul in deinem Hauptprogramm und lass deinen Sitznachbarn einen Superheldennamen eingeben. Das Programm soll dann sagen, ob dieser Superheld in der Liste enthalten ist oder nicht."
   ]
  },
  {
   "cell_type": "code",
   "execution_count": null,
   "metadata": {},
   "outputs": [],
   "source": [
    "# superhelden.py\n",
    "\n",
    "superhelden_liste = [\"Spiderman\", \"Batman\", \"Superman\", \"Wonder Woman\", \"Iron Man\"]\n",
    "\n",
    "def ist_superheld(superheld):\n",
    "    return superheld.lower() in [held.lower() for held in superhelden_liste]\n"
   ]
  },
  {
   "cell_type": "code",
   "execution_count": null,
   "metadata": {},
   "outputs": [],
   "source": [
    "# Hauptprogramm\n",
    "\n",
    "import superhelden\n",
    "\n",
    "superhelden_name = input(\"Gib den Namen eines Superhelden ein: \")\n",
    "\n",
    "if superhelden.ist_superheld(superhelden_name):\n",
    "    print(\"Ja, das ist ein Superheld!\")\n",
    "else:\n",
    "    print(\"Nein, das ist kein Superheld.\")\n"
   ]
  },
  {
   "attachments": {},
   "cell_type": "markdown",
   "metadata": {},
   "source": [
    "Aufgabe 10: \n",
    "Erstelle ein Modul namens \"farben\", das eine Liste von Farben enthält. Importiere dieses Modul in deinem Hauptprogramm und lass deinen Sitznachbarn eine Farbe auswählen. Das Programm soll dann eine zufällige Farbe aus der Liste auswählen und ausgeben, ob die gewählte Farbe richtig ist oder nicht."
   ]
  },
  {
   "cell_type": "code",
   "execution_count": null,
   "metadata": {},
   "outputs": [],
   "source": [
    "# farben.py\n",
    "\n",
    "import random\n",
    "\n",
    "farben_liste = [\"Rot\", \"Blau\", \"Grün\", \"Gelb\", \"Orange\", \"Violett\"]\n",
    "\n",
    "def pruefe_farbe(farbe):\n",
    "    zufalls_farbe = random.choice(farben_liste)\n",
    "    return farbe.lower() == zufalls_farbe.lower()\n"
   ]
  },
  {
   "cell_type": "code",
   "execution_count": null,
   "metadata": {},
   "outputs": [],
   "source": [
    "# Hauptprogramm\n",
    "\n",
    "import farben\n",
    "\n",
    "gewaehlte_farbe = input(\"Wähle eine Farbe: \")\n",
    "\n",
    "if farben.pruefe_farbe(gewaehlte_farbe):\n",
    "    print(\"Richtig! Du hast die Farbe erraten.\")\n",
    "else:\n",
    "    print(\"Falsch! Die Farbe war eine andere.\")\n"
   ]
  },
  {
   "attachments": {},
   "cell_type": "markdown",
   "metadata": {},
   "source": [
    "Aufgabe 11: \n",
    "Erstelle ein Modul namens \"formen\", das Funktionen zur Berechnung von Eigenschaften geometrischer Formen enthält, wie z. B. die Fläche eines Quadrats oder den Umfang eines Kreises. Importiere dieses Modul in deinem Hauptprogramm und lass deinen Sitznachbarn auswählen, welches Attribut (Fläche oder Umfang) es berechnen möchte, und dann die erforderlichen Werte eingeben."
   ]
  },
  {
   "cell_type": "code",
   "execution_count": null,
   "metadata": {},
   "outputs": [],
   "source": [
    "# formen.py\n",
    "\n",
    "def berechne_quadratflaeche(seitenlaenge):\n",
    "    return seitenlaenge ** 2\n",
    "\n",
    "def berechne_kreisumfang(radius):\n",
    "    pi = 3.14159\n",
    "    return 2 * pi * radius\n"
   ]
  },
  {
   "cell_type": "code",
   "execution_count": null,
   "metadata": {},
   "outputs": [],
   "source": [
    "# Hauptprogramm\n",
    "\n",
    "import formen\n",
    "\n",
    "print(\"1. Fläche eines Quadrats berechnen\")\n",
    "print(\"2. Umfang eines Kreises berechnen\")\n",
    "\n",
    "wahl = int(input(\"Wähle eine Option (1/2): \"))\n",
    "\n",
    "if wahl == 1:\n",
    "    seitenlaenge = float(input(\"Gib die Seitenlänge des Quadrats ein: \"))\n",
    "    flaeche = formen.berechne_quadratflaeche(seitenlaenge)\n",
    "    print(\"Die Fläche des Quadrats beträgt:\", flaeche)\n",
    "elif wahl == 2:\n",
    "    radius = float(input(\"Gib den Radius des Kreises ein: \"))\n",
    "    umfang = formen.berechne_kreisumfang(radius)\n",
    "    print(\"Der Umfang des Kreises beträgt:\", umfang)\n",
    "else:\n",
    "    print(\"Ungültige Auswahl\")\n"
   ]
  },
  {
   "attachments": {},
   "cell_type": "markdown",
   "metadata": {},
   "source": [
    "## $$\\textbf{Maps}$$\n",
    "<hr>"
   ]
  },
  {
   "attachments": {},
   "cell_type": "markdown",
   "metadata": {},
   "source": [
    "* Stell dir vor, du hast eine Kiste mit bunten Bauklötzen, und du möchtest jeden Bauklotz doppelt nehmen, um mehr Türme zu bauen\n",
    "    * Das Konzept von map funktioniert ähnlich!\n",
    "* In Python ist map wie ein spezielles Werkzeug, das eine bestimmte Regel auf jedes Element in einer Liste anwendet und das Ergebnis zurückgibt\n",
    "* Hier ein Beispiel:\n",
    "    * Angenommen, du hast eine Liste von Zahlen: [1, 2, 3, 4, 5]. Du möchtest jeden Wert in der Liste verdoppeln\n",
    "    \n",
    "        * *Das ist, was du **ohne** map tun müsstest:*\n",
    "            ```python \n",
    "            zahlen = [1, 2, 3, 4, 5]\n",
    "            verdoppelte_zahlen = []\n",
    "            for zahl in zahlen:\n",
    "                verdoppelte_zahl = zahl * 2\n",
    "                verdoppelte_zahlen.append(verdoppelte_zahl)\n",
    "            ```\n",
    "        * *Aber **mit** map kannst du das viel einfacher machen:*\n",
    "            ```python\n",
    "            zahlen = [1, 2, 3, 4, 5]\n",
    "            def verdopple(zahl):\n",
    "                return zahl * 2\n",
    "                verdoppelte_zahlen = list(map(verdopple, zahlen))\n",
    "\n",
    "                #Das map-Zauberwort nimmt die Funktion \"verdopple\" und wendet sie auf jede Zahl in der Liste zahlen an \n",
    "                #Das Ergebnis wird in einer neuen Liste namens verdoppelte_zahlen gespeichert\n",
    "            ```\n",
    "            \n",
    "\n"
   ]
  },
  {
   "attachments": {},
   "cell_type": "markdown",
   "metadata": {},
   "source": [
    "* Ein weiteres Beispiel:\n",
    "\n",
    "    * Angenommen, du hast eine Liste von Wörtern: ['Apfel', 'Banane', 'Erdbeere'] und du möchtest die Länge jedes Wortes berechnen\n",
    "\n",
    "        * ***Ohne** map müsstest du das so machen:*\n",
    "        ```python\n",
    "        woerter = ['Apfel', 'Banane', 'Erdbeere']\n",
    "        wortlaengen = []\n",
    "        for wort in woerter:\n",
    "            wortlaenge = len(wort)\n",
    "            wortlaengen.append(wortlaenge) #Funktion append hängt Wörter/Buchstaben an andere Wörter oder Buchstaben\n"
   ]
  },
  {
   "attachments": {},
   "cell_type": "markdown",
   "metadata": {},
   "source": [
    "### $$\\textbf{Aufgaben}$$\n",
    "<hr>"
   ]
  },
  {
   "attachments": {},
   "cell_type": "markdown",
   "metadata": {},
   "source": [
    "Aufgabe 12:\n",
    "Schreibe eine Funktion, die eine Liste von Zahlen entgegennimmt und jede Zahl darin verdoppelt. Verwende dafür die map-Funktion."
   ]
  },
  {
   "cell_type": "code",
   "execution_count": null,
   "metadata": {},
   "outputs": [],
   "source": [
    "# Lösung für Aufgabe 12\n",
    "def verdopple_zahl(zahl):\n",
    "    return zahl * 2\n",
    "\n",
    "zahlen = [1, 2, 3, 4, 5]\n",
    "verdoppelte_zahlen = list(map(verdopple_zahl, zahlen))\n",
    "print(verdoppelte_zahlen)\n"
   ]
  },
  {
   "attachments": {},
   "cell_type": "markdown",
   "metadata": {},
   "source": [
    "Aufgabe 13: \n",
    "Schreibe eine Funktion, die eine Liste von Wörtern entgegennimmt und jedes Wort in Großbuchstaben umwandelt. Verwende dafür die map-Funktion."
   ]
  },
  {
   "cell_type": "code",
   "execution_count": null,
   "metadata": {},
   "outputs": [],
   "source": [
    "# Lösung für Aufgabe 13\n",
    "def wort_in_grossbuchstaben(wort):\n",
    "    return wort.upper()\n",
    "\n",
    "woerter = [\"hallo\", \"welt\", \"python\", \"ist\", \"toll\"]\n",
    "grosse_woerter = list(map(wort_in_grossbuchstaben, woerter))\n",
    "print(grosse_woerter)\n"
   ]
  },
  {
   "attachments": {},
   "cell_type": "markdown",
   "metadata": {},
   "source": [
    "Aufgabe 14: \n",
    "Schreibe eine Funktion, die eine Liste von Wörtern entgegennimmt und die Länge jedes Wortes zurückgibt. Verwende dafür die map-Funktion."
   ]
  },
  {
   "cell_type": "code",
   "execution_count": null,
   "metadata": {},
   "outputs": [],
   "source": [
    "# Lösung für Aufgabe 14\n",
    "def berechne_wortlaenge(wort):\n",
    "    return len(wort)\n",
    "\n",
    "woerter = [\"Apfel\", \"Banane\", \"Erdbeere\", \"Kirsche\"]\n",
    "wortlaengen = list(map(berechne_wortlaenge, woerter))\n",
    "print(wortlaengen)\n"
   ]
  },
  {
   "attachments": {},
   "cell_type": "markdown",
   "metadata": {},
   "source": [
    "Aufgabe 15:\n",
    "Schreibe eine Funktion, die zwei Listen von Zahlen entgegennimmt und die Elemente paarweise multipliziert. Verwende dafür die map-Funktion."
   ]
  },
  {
   "cell_type": "code",
   "execution_count": null,
   "metadata": {},
   "outputs": [],
   "source": [
    "# Lösung für Aufgabe 15\n",
    "def multipliziere_zahlen(zahl1, zahl2):\n",
    "    return zahl1 * zahl2\n",
    "\n",
    "zahlen1 = [1, 2, 3, 4]\n",
    "zahlen2 = [5, 6, 7, 8]\n",
    "produkte = list(map(multipliziere_zahlen, zahlen1, zahlen2))\n",
    "print(produkte)\n"
   ]
  },
  {
   "attachments": {},
   "cell_type": "markdown",
   "metadata": {},
   "source": [
    "Aufgabe 16: \n",
    "Schreibe eine Funktion, die eine Liste von Wörtern entgegennimmt und jedes Wort in umgekehrter Reihenfolge zurückgibt. Verwende dafür die map-Funktion."
   ]
  },
  {
   "cell_type": "code",
   "execution_count": null,
   "metadata": {},
   "outputs": [],
   "source": [
    "# Lösung für Aufgabe 16\n",
    "def umgekehrtes_wort(wort):\n",
    "    return wort[::-1]\n",
    "\n",
    "woerter = [\"Hund\", \"Katze\", \"Maus\", \"Vogel\"]\n",
    "umgekehrte_woerter = list(map(umgekehrtes_wort, woerter))\n",
    "print(umgekehrte_woerter)\n"
   ]
  },
  {
   "attachments": {},
   "cell_type": "markdown",
   "metadata": {},
   "source": [
    "## $$\\textbf{Filter}$$\n",
    "<hr>"
   ]
  },
  {
   "attachments": {},
   "cell_type": "markdown",
   "metadata": {},
   "source": [
    "* Filter hilft uns dabei, bestimmte Dinge aus einer Liste auszuwählen, die zu einer bestimmten Bedingung passen\n",
    "\n",
    "* Es funktioniert, indem es eine Funktion auf jedes Element in der Liste anwendet und nur die Elemente auswählt, für die die Funktion \"Ja\" sagt, also True zurückgibt\n",
    "\n",
    "* Das Ergebnis von filter ist eine neue Liste, die nur die ausgewählten Elemente enthält.\n",
    "\n",
    "* Hier sind Beispiele:\n",
    "\n",
    "    * *Gerade Zahlen auswählen:*\n",
    "        * Angenommen, wir haben eine Liste von Zahlen: [1, 2, 3, 4, 5, 6, 7, 8, 9, 10]. Wir möchten nur die geraden Zahlen auswählen.\n",
    "        ```python \n",
    "        zahlen = [1, 2, 3, 4, 5, 6, 7, 8, 9, 10]\n",
    "\n",
    "        def ist_gerade(zahl):\n",
    "            return zahl % 2 == 0\n",
    "\n",
    "        gerade_zahlen = list(filter(ist_gerade, zahlen))\n",
    "        print(gerade_zahlen)  # Ausgabe: [2, 4, 6, 8, 10]\n",
    "        ```\n",
    "    * *Wörter nach Länge auswählen:*\n",
    "        * Angenommen, wir haben eine Liste von Wörtern: ['Apfel', 'Banane', 'Erdbeere', 'Kiwi', 'Melone']. Wir möchten nur die Wörter auswählen, die länger als 5 Buchstaben sind.\n",
    "        ```python\n",
    "        woerter = ['Apfel', 'Banane', 'Erdbeere', 'Kiwi', 'Melone']\n",
    "\n",
    "        def ist_langes_wort(wort):\n",
    "            return len(wort) > 5\n",
    "\n",
    "        lange_woerter = list(filter(ist_langes_wort, woerter))\n",
    "        print(lange_woerter)  # Ausgabe: ['Banane', 'Erdbeere', 'Melone']\n",
    "        ```\n",
    "        \n",
    "\n",
    "\n",
    " "
   ]
  },
  {
   "attachments": {},
   "cell_type": "markdown",
   "metadata": {},
   "source": [
    "### $$\\textbf{Aufgaben}$$\n",
    "<hr>"
   ]
  },
  {
   "attachments": {},
   "cell_type": "markdown",
   "metadata": {},
   "source": [
    "Aufgabe 17: Gerade Zahlen auswählen\n",
    "Schreibe eine Funktion, die eine Liste von Zahlen entgegennimmt und nur die geraden Zahlen auswählt. Verwende dafür die filter-Funktion."
   ]
  },
  {
   "cell_type": "code",
   "execution_count": null,
   "metadata": {},
   "outputs": [],
   "source": [
    "# Lösung für Aufgabe 17\n",
    "def ist_gerade(zahl):\n",
    "    return zahl % 2 == 0\n",
    "\n",
    "zahlen = [1, 2, 3, 4, 5, 6, 7, 8, 9, 10]\n",
    "gerade_zahlen = list(filter(ist_gerade, zahlen))\n",
    "print(gerade_zahlen)\n"
   ]
  },
  {
   "attachments": {},
   "cell_type": "markdown",
   "metadata": {},
   "source": [
    "Aufgabe 18:\n",
    "Schreibe eine Funktion, die eine Liste von Buchstaben entgegennimmt und nur die Vokale (A, E, I, O, U) auswählt. Verwende dafür die filter-Funktion."
   ]
  },
  {
   "cell_type": "code",
   "execution_count": null,
   "metadata": {},
   "outputs": [],
   "source": [
    "# Lösung für Aufgabe 18\n",
    "def ist_vokal(buchstabe):\n",
    "    return buchstabe.upper() in ['A', 'E', 'I', 'O', 'U']\n",
    "\n",
    "buchstaben = ['a', 'b', 'e', 'i', 'j', 'o', 'u', 'z']\n",
    "vokale = list(filter(ist_vokal, buchstaben))\n",
    "print(vokale)\n"
   ]
  },
  {
   "attachments": {},
   "cell_type": "markdown",
   "metadata": {},
   "source": [
    "Aufgabe 19: \n",
    "Schreibe eine Funktion, die eine Liste von Wörtern entgegennimmt und nur die Wörter auswählt, die länger als 5 Buchstaben sind. Verwende dafür die filter-Funktion."
   ]
  },
  {
   "cell_type": "code",
   "execution_count": null,
   "metadata": {},
   "outputs": [],
   "source": [
    "# Lösung für Aufgabe 19\n",
    "def ist_langes_wort(wort):\n",
    "    return len(wort) > 5\n",
    "\n",
    "woerter = ['Apfel', 'Banane', 'Erdbeere', 'Kiwi', 'Melone']\n",
    "lange_woerter = list(filter(ist_langes_wort, woerter))\n",
    "print(lange_woerter)\n"
   ]
  },
  {
   "attachments": {},
   "cell_type": "markdown",
   "metadata": {},
   "source": [
    "Aufgabe 20:\n",
    "Schreibe eine Funktion, die eine Liste von Zahlen entgegennimmt und nur die Zahlen auswählt, die durch eine bestimmte Zahl teilbar sind (z. B. 3). Verwende dafür die filter-Funktion."
   ]
  },
  {
   "cell_type": "code",
   "execution_count": null,
   "metadata": {},
   "outputs": [],
   "source": [
    "# Lösung für Aufgabe 20\n",
    "def ist_teiler(zahl, teiler):\n",
    "    return zahl % teiler == 0\n",
    "\n",
    "zahlen = [10, 15, 20, 25, 30, 35, 40, 45, 50]\n",
    "teiler = 5\n",
    "teiler_zahlen = list(filter(lambda x: ist_teiler(x, teiler), zahlen))\n",
    "print(teiler_zahlen)\n"
   ]
  },
  {
   "attachments": {},
   "cell_type": "markdown",
   "metadata": {},
   "source": [
    "Aufgabe 21: Namen mit bestimmtem Buchstaben auswählen\n",
    "Schreibe eine Funktion, die eine Liste von Namen entgegennimmt und nur die Namen auswählt, die mit einem bestimmten Buchstaben beginnen (z. B. \"A\"). Verwende dafür die filter-Funktion."
   ]
  },
  {
   "cell_type": "code",
   "execution_count": null,
   "metadata": {},
   "outputs": [],
   "source": [
    "# Lösung für Aufgabe 21\n",
    "def beginnt_mit_buchstabe(name, buchstabe):\n",
    "    return name.startswith(buchstabe)\n",
    "\n",
    "namen = ['Anna', 'Max', 'Paul', 'Alex', 'Alina', 'Lena', 'Tom']\n",
    "buchstabe = 'A'\n",
    "namen_mit_buchstabe = list(filter(lambda x: beginnt_mit_buchstabe(x, buchstabe), namen))\n",
    "print(namen_mit_buchstabe)\n"
   ]
  },
  {
   "attachments": {},
   "cell_type": "markdown",
   "metadata": {},
   "source": [
    "## $$\\textbf{Reduce}$$\n",
    "<hr>"
   ]
  },
  {
   "attachments": {},
   "cell_type": "markdown",
   "metadata": {},
   "source": [
    "* Reduce hilft uns, eine Liste von Dingen zu einem einzelnen Wert zu reduzieren, indem es eine bestimmte Operation auf alle Elemente in der Liste anwendet\n",
    "* Es funktioniert, indem es die Elemente paarweise kombiniert und das Ergebnis der Kombination mit dem nächsten Element erneut kombiniert, bis es nur noch einen einzelnen Wert übrig bleibt\n",
    "* Hier sind Beispiele:\n",
    "    * *Angenommen, wir haben eine Liste von Zahlen: [1, 2, 3, 4, 5]. Wir möchten die Summe dieser Zahlen berechnen.*\n",
    "    ```python\n",
    "    \n",
    "    from functools import reduce\n",
    "\n",
    "    zahlen = [1, 2, 3, 4, 5]\n",
    "\n",
    "    def addiere(x, y):\n",
    "        return x + y\n",
    "\n",
    "    summe = reduce(addiere, zahlen)\n",
    "    print(summe)  # Ausgabe: 15\n",
    "    #reduce nimmt die Funktion \"addiere\" und kombiniert die Zahlen paarweise: 1+2=3, 3+3=6, 6+4=10, 10+5=15, um die endgültige Summe 15 zu erhalten.\n",
    "    ```\n",
    "* Angenommen, wir haben eine Liste von Zahlen: [1, 2, 3, 4, 5]. *Wir möchten das Produkt dieser Zahlen berechnen.*\n",
    "```python\n",
    "from functools import reduce\n",
    "\n",
    "zahlen = [1, 2, 3, 4, 5]\n",
    "\n",
    "def multipliziere(x, y):\n",
    "    return x * y\n",
    "\n",
    "produkt = reduce(multipliziere, zahlen)\n",
    "print(produkt)  # Ausgabe: 120\n",
    "#reduce nimmt die Funktion \"multipliziere\" und kombiniert die Zahlen paarweise:1*2=2, 2*3=6, 6*4=24, 24*5=120, um das endgültige Produkt 120 zu erhalten.\n",
    "```\n",
    "\n"
   ]
  },
  {
   "attachments": {},
   "cell_type": "markdown",
   "metadata": {},
   "source": [
    "### $$\\textbf{Aufgaben}$$\n",
    "<hr>"
   ]
  },
  {
   "attachments": {},
   "cell_type": "markdown",
   "metadata": {},
   "source": [
    "Aufgabe 22:\n",
    "Schreibe eine Funktion, die eine Liste von Zahlen entgegennimmt und die größte Zahl in der Liste findet. Verwende dafür die reduce-Funktion."
   ]
  },
  {
   "cell_type": "code",
   "execution_count": null,
   "metadata": {},
   "outputs": [],
   "source": [
    "# Lösung für Aufgabe 22\n",
    "from functools import reduce\n",
    "\n",
    "def finde_groesste_zahl(x, y):\n",
    "    return x if x > y else y\n",
    "\n",
    "zahlen = [10, 7, 15, 3, 25, 12]\n",
    "groesste_zahl = reduce(finde_groesste_zahl, zahlen)\n",
    "print(groesste_zahl)\n"
   ]
  },
  {
   "attachments": {},
   "cell_type": "markdown",
   "metadata": {},
   "source": [
    "Aufgabe 23:\n",
    "Schreibe eine Funktion, die eine Liste von Namen entgegennimmt und den längsten Namen in der Liste findet. Verwende dafür die reduce-Funktion."
   ]
  },
  {
   "cell_type": "code",
   "execution_count": null,
   "metadata": {},
   "outputs": [],
   "source": [
    "# Lösung für Aufgabe 23\n",
    "from functools import reduce\n",
    "\n",
    "def finde_laengsten_namen(name1, name2):\n",
    "    return name1 if len(name1) > len(name2) else name2\n",
    "\n",
    "namen = [\"Anna\", \"Max\", \"Paulina\", \"Tom\", \"Lena\"]\n",
    "laengster_name = reduce(finde_laengsten_namen, namen)\n",
    "print(laengster_name)\n"
   ]
  },
  {
   "attachments": {},
   "cell_type": "markdown",
   "metadata": {},
   "source": [
    "Aufgabe 24:\n",
    "Schreibe eine Funktion, die eine Liste von Wörtern entgegennimmt und die Anzahl der Vokale in allen Wörtern zählt. Verwende dafür die reduce-Funktion.\n"
   ]
  },
  {
   "cell_type": "code",
   "execution_count": null,
   "metadata": {},
   "outputs": [],
   "source": [
    "# Lösung für Aufgabe 24\n",
    "from functools import reduce\n",
    "\n",
    "def zaehle_vokale(wort):\n",
    "    vokale = ['a', 'e', 'i', 'o', 'u']\n",
    "    anzahl_vokale = sum(1 for buchstabe in wort if buchstabe.lower() in vokale)\n",
    "    return anzahl_vokale\n",
    "\n",
    "woerter = [\"Apfel\", \"Banane\", \"Erdbeere\", \"Kiwi\", \"Melone\"]\n",
    "anzahl_vokale = reduce(lambda x, y: x + y, map(zaehle_vokale, woerter))\n",
    "print(anzahl_vokale)\n"
   ]
  },
  {
   "attachments": {},
   "cell_type": "markdown",
   "metadata": {},
   "source": [
    "## $$\\textbf{Dictionary}$$\n",
    "<hr>"
   ]
  },
  {
   "attachments": {},
   "cell_type": "markdown",
   "metadata": {},
   "source": [
    "* Ein Dictionary ist in Python wie ein Wörterbuch\n",
    "* Es besteht aus Paaren von Schlüsseln und Werten.\n",
    "* Jeder Schlüssel ist ein einzigartiges Wort, und jedem Schlüssel ist ein Wert zugeordnet, der eine Bedeutung hat.\n",
    "\n",
    "* Beispiel 1:\n",
    "    * Wörterbuch von Obst und Farben: Ein einfaches Dictionary, das Obstnamen und ihre Farben enthält.\n",
    "    ```python\n",
    "        obst_farben = {\n",
    "        'Apfel': 'Rot',\n",
    "        'Banane': 'Gelb',\n",
    "        'Kiwi': 'Grün',\n",
    "        'Orange': 'Orange'\n",
    "        }\n",
    "    ```\n",
    "* Beispiel 2:\n",
    "    * Alter der Familienmitglieder: Ein Dictionary, das die Namen der Familienmitglieder und ihr Alter enthält\n",
    "    \n",
    "        ```python\n",
    "        alter_familie = {\n",
    "        'Vater': 35,\n",
    "        'Mutter': 32,\n",
    "        'Sohn': 8,\n",
    "        'Tochter': 6\n",
    "        }\n",
    "    ```\n",
    "\n"
   ]
  },
  {
   "attachments": {},
   "cell_type": "markdown",
   "metadata": {},
   "source": [
    "### $$\\textbf{Aufgaben}$$\n",
    "<hr>"
   ]
  },
  {
   "attachments": {},
   "cell_type": "markdown",
   "metadata": {},
   "source": [
    "Aufgabe 25:\n",
    "Erstelle ein Dictionary, das die Namen der Familienmitglieder als Schlüssel und ihr Alter als Wert enthält. Lasse deinen Sitznachbarn nach dem Alter eines Familienmitglieds suchen und es anzeigen."
   ]
  },
  {
   "cell_type": "code",
   "execution_count": null,
   "metadata": {},
   "outputs": [],
   "source": [
    "# Lösung für Aufgabe 25\n",
    "alter_familie = {\n",
    "    'Vater': 35,\n",
    "    'Mutter': 32,\n",
    "    'Sohn': 8,\n",
    "    'Tochter': 6\n",
    "}\n",
    "\n",
    "name = input(\"Gib den Namen eines Familienmitglieds ein: \")\n",
    "alter = alter_familie.get(name, \"Unbekanntes Familienmitglied\")\n",
    "print(\"Das Alter des Familienmitglieds ist:\", alter)\n"
   ]
  },
  {
   "attachments": {},
   "cell_type": "markdown",
   "metadata": {},
   "source": [
    "Aufgabe 26: Schulfächer und Noten\n",
    "Erstelle ein Dictionary, das Schulfächer als Schlüssel und die zugehörigen Noten als Wert enthält. Lasse deinen Sitznachbarn nach einem Schulfach suchen und die Note anzeigen."
   ]
  },
  {
   "cell_type": "code",
   "execution_count": null,
   "metadata": {},
   "outputs": [],
   "source": [
    "# Lösung für Aufgabe 26\n",
    "schulfächer_noten = {\n",
    "    'Mathe': 90,\n",
    "    'Deutsch': 85,\n",
    "    'Englisch': 92,\n",
    "    'Sport': 78\n",
    "}\n",
    "\n",
    "fach = input(\"Gib den Namen eines Schulfachs ein: \")\n",
    "note = schulfächer_noten.get(fach, \"Unbekanntes Schulfach\")\n",
    "print(\"Die Note im Schulfach ist:\", note)\n"
   ]
  },
  {
   "attachments": {},
   "cell_type": "markdown",
   "metadata": {},
   "source": [
    "Aufgabe 27: \n",
    "Erstelle ein Dictionary, das Vokabeln als Schlüssel und ihre Bedeutungen als Wert enthält. "
   ]
  },
  {
   "cell_type": "code",
   "execution_count": null,
   "metadata": {},
   "outputs": [],
   "source": [
    "# Lösung für Aufgabe 27\n",
    "vokabular_bedeutung = {\n",
    "    'Apfel': 'Eine runde Frucht, die rot, grün oder gelb sein kann.',\n",
    "    'Haus': 'Ein Gebäude, in dem Menschen leben.',\n",
    "    'Sonne': 'Ein großer, leuchtender Stern, der am Himmel scheint.',\n",
    "    'Buch': 'Ein gedrucktes Werk aus Papier, das Geschichten erzählt.'\n",
    "}\n",
    "\n",
    "vokabel = input(\"Gib eine Vokabel ein: \")\n",
    "bedeutung = vokabular_bedeutung.get(vokabel, \"Unbekannte Vokabel\")\n",
    "print(\"Die Bedeutung der Vokabel ist:\", bedeutung)\n"
   ]
  },
  {
   "attachments": {},
   "cell_type": "markdown",
   "metadata": {},
   "source": [
    "# $$\\textbf{Einstieg in die objektorientierte Programmierung}$$\n",
    "<hr>"
   ]
  },
  {
   "attachments": {},
   "cell_type": "markdown",
   "metadata": {},
   "source": [
    "## $$\\textbf{Klassen}$$\n",
    "<hr>"
   ]
  },
  {
   "attachments": {},
   "cell_type": "markdown",
   "metadata": {},
   "source": [
    "* Klassen in Python sind wie Baupläne oder Vorlagen für Objekte\n",
    "* Sie helfen uns, Dinge zu erstellen, die ähnliche Eigenschaften haben\n",
    "* Jedes Objekt, das aus einer Klasse erstellt wird, hat Eigenschaften (Variablen) und Verhaltensweisen (Methoden), die in der Klasse definiert sind\n",
    "* So können wir verschiedene Objekte mit ähnlichen Eigenschaften und Verhaltensweisen erstellen und sie verwenden, um verschiedene Aufgaben zu erledigen\n",
    "\n",
    "* Beispiel 1: Klasse für ein Haustier\n",
    "    ```python\n",
    "            class Haustier:\n",
    "            def __init__(self, name, alter, art): #Konstruktor\n",
    "                self.name = name #attribut\n",
    "                self.alter = alter #attribut\n",
    "                self.art = art #attribut\n",
    "\n",
    "            def vorstellen(self):\n",
    "                print(f\"Hallo, ich bin {self.name}, ein {self.alter}-jähriges {self.art}.\")\n",
    "\n",
    "        # Erstelle ein Haustier-Objekt\n",
    "        hund = Haustier(\"Bello\", 3, \"Hund\")\n",
    "\n",
    "        # Nutze die vorstellen-Methode des Haustier-Objekts\n",
    "        hund.vorstellen()\n",
    "        \n",
    "        #Ausgabe: Hallo, ich bin Bello, ein 3-jähriger Hund.\n",
    "       \n",
    " \n"
   ]
  },
  {
   "attachments": {},
   "cell_type": "markdown",
   "metadata": {},
   "source": [
    " * Beispiel 2: Klasse für einen Rechner:\n",
    " \n",
    "    ```python\n",
    "        class Rechner:\n",
    "            def addiere(self, zahl1, zahl2):\n",
    "                return zahl1 + zahl2\n",
    "\n",
    "            def multipliziere(self, zahl1, zahl2):\n",
    "                return zahl1 * zahl2\n",
    "\n",
    "            # Erstelle ein Rechner-Objekt\n",
    "            mein_rechner = Rechner()\n",
    "\n",
    "            # Nutze die Methoden des Rechner-Objekts\n",
    "            ergebnis_addition = mein_rechner.addiere(5, 3)\n",
    "            ergebnis_multiplikation = mein_rechner.multipliziere(4, 6)\n",
    "\n",
    "            print(\"Ergebnis der Addition:\", ergebnis_addition)\n",
    "            print(\"Ergebnis der Multiplikation:\", ergebnis_multiplikation)\n",
    "            '''Ausgabe: Ergebnis der Addition: 8\n",
    "               Ausgabe: Ergebnis der Multiplikation: 24'''\n",
    "    ```"
   ]
  },
  {
   "attachments": {},
   "cell_type": "markdown",
   "metadata": {},
   "source": [
    "### $$\\textbf{Aufgaben}$$\n",
    "<hr>"
   ]
  },
  {
   "attachments": {},
   "cell_type": "markdown",
   "metadata": {},
   "source": [
    "Aufgabe 28: Taschenrechner-Klasse\n",
    "Erstelle eine Klasse für einen einfachen Taschenrechner, der die Methoden addiere und subtrahiere enthält."
   ]
  },
  {
   "cell_type": "code",
   "execution_count": null,
   "metadata": {},
   "outputs": [],
   "source": [
    "# Lösung für Aufgabe 1\n",
    "class Taschenrechner:\n",
    "    def addiere(self, zahl1, zahl2):\n",
    "        return zahl1 + zahl2\n",
    "\n",
    "    def subtrahiere(self, zahl1, zahl2):\n",
    "        return zahl1 - zahl2\n",
    "\n",
    "# Erstelle ein Taschenrechner-Objekt\n",
    "mein_taschenrechner = Taschenrechner()\n",
    "\n",
    "# Teste die Methoden des Taschenrechners\n",
    "ergebnis_addition = mein_taschenrechner.addiere(5, 3)\n",
    "ergebnis_subtraktion = mein_taschenrechner.subtrahiere(10, 4)\n",
    "\n",
    "print(\"Ergebnis der Addition:\", ergebnis_addition)\n",
    "print(\"Ergebnis der Subtraktion:\", ergebnis_subtraktion)\n"
   ]
  },
  {
   "attachments": {},
   "cell_type": "markdown",
   "metadata": {},
   "source": [
    "Aufgabe 29: Schüler-Klasse\n",
    "Erstelle eine Klasse für einen Schüler, der die Eigenschaften name, alter und klasse hat und eine Methode vorstellen, um sich selbst vorzustellen."
   ]
  },
  {
   "cell_type": "code",
   "execution_count": null,
   "metadata": {},
   "outputs": [],
   "source": [
    "# Lösung für Aufgabe 29\n",
    "class Schueler:\n",
    "    def __init__(self, name, alter, klasse):\n",
    "        self.name = name\n",
    "        self.alter = alter\n",
    "        self.klasse = klasse\n",
    "\n",
    "    def vorstellen(self):\n",
    "        print(f\"Hallo, ich bin {self.name}, {self.alter} Jahre alt und gehe in die {self.klasse}.\")\n",
    "\n",
    "# Erstelle ein Schüler-Objekt\n",
    "schueler1 = Schueler(\"Max\", 9, \"4A\")\n",
    "\n",
    "# Rufe die vorstellen-Methode des Schüler-Objekts auf\n",
    "schueler1.vorstellen()\n"
   ]
  },
  {
   "attachments": {},
   "cell_type": "markdown",
   "metadata": {},
   "source": [
    "Aufgabe 30: Auto-Klasse\n",
    "Erstelle eine Klasse für ein Auto, das die Eigenschaften Marke, Farbe und Geschwindigkeit hat und Methoden beschleunigen und bremsen, um die Geschwindigkeit zu ändern."
   ]
  },
  {
   "cell_type": "code",
   "execution_count": null,
   "metadata": {},
   "outputs": [],
   "source": [
    "# Lösung für Aufgabe 30\n",
    "class Auto:\n",
    "    def __init__(self, marke, farbe):\n",
    "        self.marke = marke\n",
    "        self.farbe = farbe\n",
    "        self.geschwindigkeit = 0\n",
    "\n",
    "    def beschleunigen(self, wert):\n",
    "        self.geschwindigkeit += wert\n",
    "\n",
    "    def bremsen(self, wert):\n",
    "        self.geschwindigkeit -= wert\n",
    "\n",
    "# Erstelle ein Auto-Objekt\n",
    "mein_auto = Auto(\"VW\", \"Blau\")\n",
    "\n",
    "# Beschleunige und bremse das Auto\n",
    "mein_auto.beschleunigen(30)\n",
    "mein_auto.bremsen(10)\n",
    "\n",
    "print(\"Geschwindigkeit:\", mein_auto.geschwindigkeit)\n"
   ]
  },
  {
   "attachments": {},
   "cell_type": "markdown",
   "metadata": {},
   "source": [
    "Aufgabe 31: Hund-Klasse\n",
    "Erstelle eine Klasse für einen Hund, der die Eigenschaften name, alter und rasse hat und eine Methode bellen, um ein Bellen auszugeben."
   ]
  },
  {
   "cell_type": "code",
   "execution_count": null,
   "metadata": {},
   "outputs": [],
   "source": [
    "# Lösung für Aufgabe 31\n",
    "class Hund:\n",
    "    def __init__(self, name, alter, rasse):\n",
    "        self.name = name\n",
    "        self.alter = alter\n",
    "        self.rasse = rasse\n",
    "\n",
    "    def bellen(self):\n",
    "        print(\"Wuff! Wuff!\")\n",
    "\n",
    "# Erstelle ein Hund-Objekt\n",
    "mein_hund = Hund(\"Bello\", 3, \"Labrador\")\n",
    "\n",
    "# Lasse den Hund bellen\n",
    "mein_hund.bellen()\n"
   ]
  },
  {
   "attachments": {},
   "cell_type": "markdown",
   "metadata": {},
   "source": [
    "Aufgabe 32: Form-Klasse\n",
    "Erstelle eine Klasse für geometrische Formen, die die Methode berechne_umfang enthält. Erstelle dann ein Rechteck-Objekt und ein Kreis-Objekt und berechne ihren Umfang."
   ]
  },
  {
   "cell_type": "code",
   "execution_count": null,
   "metadata": {},
   "outputs": [],
   "source": [
    "# Lösung für Aufgabe 32\n",
    "class Form:\n",
    "    def berechne_umfang(self):\n",
    "        pass  # Platzhalter, diese Methode wird in den abgeleiteten Klassen implementiert\n",
    "\n",
    "class Rechteck(Form):\n",
    "    def __init__(self, breite, hoehe):\n",
    "        self.breite = breite\n",
    "        self.hoehe = hoehe\n",
    "\n",
    "    def berechne_umfang(self):\n",
    "        return 2 * (self.breite + self.hoehe)\n",
    "\n",
    "class Kreis(Form):\n",
    "    def __init__(self, radius):\n",
    "        self.radius = radius\n",
    "\n",
    "    def berechne_umfang(self):\n",
    "        return 2 * 3.14 * self.radius\n",
    "\n",
    "# Erstelle ein Rechteck-Objekt\n",
    "mein_rechteck = Rechteck(4, 6)\n",
    "\n",
    "# Erstelle ein Kreis-Objekt\n",
    "mein_kreis = Kreis(3)\n",
    "\n",
    "# Berechne den Umfang der Formen\n",
    "umfang_rechteck = mein_rechteck.berechne_umfang()\n",
    "umfang_kreis = mein_kreis.berechne_umfang()\n",
    "\n",
    "print(\"Umfang des Rechtecks:\", umfang_rechteck)\n",
    "print(\"Umfang des Kreises:\", umfang_kreis)\n"
   ]
  },
  {
   "attachments": {},
   "cell_type": "markdown",
   "metadata": {},
   "source": [
    "## $$\\textbf{Attribute}$$\n",
    "<hr>"
   ]
  },
  {
   "attachments": {},
   "cell_type": "markdown",
   "metadata": {},
   "source": [
    "* Attribute in Python sind wie Eigenschaften oder Merkmale von Dingen\n",
    "* Sie beschreiben, wie etwas ist oder was es kann\n",
    "* In Python können wir sie in Klassen verwenden, um Objekte mit verschiedenen Eigenschaften zu erstellen und auf diese Eigenschaften zuzugreifen\n",
    "\n",
    "* Beispiel 1: Klasse für ein Auto mit Attributen:\n",
    "```python \n",
    "class Auto:\n",
    "    def __init__(self, marke, farbe):\n",
    "        self.marke = marke\n",
    "        self.farbe = farbe\n",
    "        self.geschwindigkeit = 0\n",
    "```"
   ]
  },
  {
   "attachments": {},
   "cell_type": "markdown",
   "metadata": {},
   "source": [
    "### $$\\textbf{Aufgaben}$$\n",
    "<hr>"
   ]
  },
  {
   "attachments": {},
   "cell_type": "markdown",
   "metadata": {},
   "source": [
    "Aufgabe 33: Erstelle ein Auto-Objekt mit Attributen und greife auf die Attribute des Auto-Objekts zu."
   ]
  },
  {
   "cell_type": "code",
   "execution_count": null,
   "metadata": {},
   "outputs": [],
   "source": [
    "#Lösung Aufgabe 33\n",
    "\n",
    "class Auto:\n",
    "    def __init__(self, marke, farbe):\n",
    "        self.marke = marke\n",
    "        self.farbe = farbe\n",
    "        self.geschwindigkeit = 0\n",
    "\n",
    "#Erstellen eines Auto-Objekts\n",
    "mein_auto = Auto(\"VW\", \"Blau\")\n",
    "\n",
    "# Greife auf die Attribute des Auto-Objekts zu\n",
    "print(\"Marke des Autos:\", mein_auto.marke)\n",
    "print(\"Farbe des Autos:\", mein_auto.farbe)\n",
    "print(\"Geschwindigkeit des Autos:\", mein_auto.geschwindigkeit)"
   ]
  },
  {
   "attachments": {},
   "cell_type": "markdown",
   "metadata": {},
   "source": [
    "Aufgabe 34:\n",
    "Erstelle eine Klasse für einen Schüler, der die Attribute name, alter und klasse hat. Erstelle dann ein Schüler-Objekt und gib seine Eigenschaften aus."
   ]
  },
  {
   "cell_type": "code",
   "execution_count": null,
   "metadata": {},
   "outputs": [],
   "source": [
    "# Lösung für Aufgabe 34\n",
    "class Schueler:\n",
    "    def __init__(self, name, alter, klasse):\n",
    "        self.name = name\n",
    "        self.alter = alter\n",
    "        self.klasse = klasse\n",
    "\n",
    "# Erstelle ein Schüler-Objekt\n",
    "schueler1 = Schueler(\"Max\", 9, \"4A\")\n",
    "\n",
    "# Gib die Eigenschaften des Schüler-Objekts aus\n",
    "print(\"Name des Schülers:\", schueler1.name)\n",
    "print(\"Alter des Schülers:\", schueler1.alter)\n",
    "print(\"Klasse des Schülers:\", schueler1.klasse)\n"
   ]
  },
  {
   "attachments": {},
   "cell_type": "markdown",
   "metadata": {},
   "source": [
    "Aufgabe 35: \n",
    "Erstelle eine Klasse für Obst, das die Attribute name, farbe und geschmack hat. Erstelle dann ein Obst-Objekt und gib seine Eigenschaften aus."
   ]
  },
  {
   "cell_type": "code",
   "execution_count": 2,
   "metadata": {},
   "outputs": [
    {
     "name": "stdout",
     "output_type": "stream",
     "text": [
      "1\n",
      "2\n",
      "3\n",
      "4\n",
      "5\n"
     ]
    }
   ],
   "source": [
    "# Lösung für Aufgabe 35\n",
    "class Obst:\n",
    "    def __init__(self, name, farbe, geschmack):\n",
    "        self.name = name\n",
    "        self.farbe = farbe\n",
    "        self.geschmack = geschmack\n",
    "\n",
    "# Erstelle ein Obst-Objekt\n",
    "apfel = Obst(\"Apfel\", \"Rot\", \"Süß\")\n",
    "\n",
    "# Gib die Eigenschaften des Obst-Objekts aus\n",
    "print(\"Name des Obstes:\", apfel.name)\n",
    "print(\"Farbe des Obstes:\", apfel.farbe)\n",
    "print(\"Geschmack des Obstes:\", apfel.geschmack)\n"
   ]
  },
  {
   "attachments": {},
   "cell_type": "markdown",
   "metadata": {},
   "source": [
    "Aufgabe 36:\n",
    "Erstelle eine Klasse für Tiere, die die Attribute name, art und anzahl_beine hat. Erstelle dann ein Tier-Objekt und gib seine Eigenschaften aus."
   ]
  },
  {
   "cell_type": "code",
   "execution_count": null,
   "metadata": {},
   "outputs": [],
   "source": [
    "# Lösung für Aufgabe 36\n",
    "class Tier:\n",
    "    def __init__(self, name, art, anzahl_beine):\n",
    "        self.name = name\n",
    "        self.art = art\n",
    "        self.anzahl_beine = anzahl_beine\n",
    "\n",
    "# Erstelle ein Tier-Objekt\n",
    "hund = Tier(\"Bello\", \"Hund\", 4)\n",
    "\n",
    "# Gib die Eigenschaften des Tier-Objekts aus\n",
    "print(\"Name des Tieres:\", hund.name)\n",
    "print(\"Art des Tieres:\", hund.art)\n",
    "print(\"Anzahl Beine des Tieres:\", hund.anzahl_beine)\n"
   ]
  },
  {
   "attachments": {},
   "cell_type": "markdown",
   "metadata": {},
   "source": [
    "Aufgabe 37:\n",
    "Erstelle eine Klasse für ein Haus, die die Attribute farbe, anzahl_zimmer und groesse hat. Erstelle dann ein Haus-Objekt und gib seine Eigenschaften aus."
   ]
  },
  {
   "cell_type": "code",
   "execution_count": null,
   "metadata": {},
   "outputs": [],
   "source": [
    "# Lösung für Aufgabe 37\n",
    "class Haus:\n",
    "    def __init__(self, farbe, anzahl_zimmer, groesse):\n",
    "        self.farbe = farbe\n",
    "        self.anzahl_zimmer = anzahl_zimmer\n",
    "        self.groesse = groesse\n",
    "\n",
    "# Erstelle ein Haus-Objekt\n",
    "mein_haus = Haus(\"Blau\", 5, \"Groß\")\n",
    "\n",
    "# Gib die Eigenschaften des Haus-Objekts aus\n",
    "print(\"Farbe des Hauses:\", mein_haus.farbe)\n",
    "print(\"Anzahl Zimmer des Hauses:\", mein_haus.anzahl_zimmer)\n",
    "print(\"Größe des Hauses:\", mein_haus.groesse)\n"
   ]
  },
  {
   "attachments": {},
   "cell_type": "markdown",
   "metadata": {},
   "source": [
    "### $$\\textbf{Danke für eure Aufmerksamkeit!}$$\n",
    "<hr>  "
   ]
  }
 ],
 "metadata": {
  "celltoolbar": "Slideshow",
  "kernelspec": {
   "display_name": "Python 3 (ipykernel)",
   "language": "python",
   "name": "python3"
  },
  "language_info": {
   "codemirror_mode": {
    "name": "ipython",
    "version": 3
   },
   "file_extension": ".py",
   "mimetype": "text/x-python",
   "name": "python",
   "nbconvert_exporter": "python",
   "pygments_lexer": "ipython3",
   "version": "3.11.3"
  }
 },
 "nbformat": 4,
 "nbformat_minor": 1
}
