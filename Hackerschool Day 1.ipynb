{
 "cells": [
  {
   "attachments": {},
   "cell_type": "markdown",
   "metadata": {
    "slideshow": {
     "slide_type": "skip"
    }
   },
   "source": [
    "$\n",
    "\\newcommand{\\nc}{\\newcommand} \n",
    "\\nc{\\t}{\\text}\n",
    "\\nc{\\tb}{\\textbf}\n",
    "\\nc{\\ti}{\\textit}\n",
    "$"
   ]
  },
  {
   "attachments": {},
   "cell_type": "markdown",
   "metadata": {
    "slideshow": {
     "slide_type": "slide"
    }
   },
   "source": [
    "# $$\\textbf{Hackerschool } $$\n",
    "\n",
    "#### $$\\text{Tag 1}$$\n",
    "#### $$\\text{Claudia Oviesu und Leon Plumpe}$$\n"
   ]
  },
  {
   "attachments": {},
   "cell_type": "markdown",
   "metadata": {
    "slideshow": {
     "slide_type": "slide"
    }
   },
   "source": [
    "## $$\\textbf{Allgemeiner Kursüberblick}$$\n",
    "<hr>"
   ]
  },
  {
   "attachments": {},
   "cell_type": "markdown",
   "metadata": {},
   "source": [
    "* Installationsanleitung für Python"
   ]
  },
  {
   "attachments": {},
   "cell_type": "markdown",
   "metadata": {},
   "source": [
    "* Was ist Programmierung?"
   ]
  },
  {
   "attachments": {},
   "cell_type": "markdown",
   "metadata": {},
   "source": [
    " * Kommentare"
   ]
  },
  {
   "attachments": {},
   "cell_type": "markdown",
   "metadata": {
    "slideshow": {
     "slide_type": "fragment"
    }
   },
   "source": [
    "* Variablen\n",
    "    * Regeln für Variablen\n",
    "    * Welche Variablennamen sind erlaubt?\n",
    "    * Beispiele für die Variablendeklarationen"
   ]
  },
  {
   "attachments": {},
   "cell_type": "markdown",
   "metadata": {},
   "source": [
    "* Datentypen\n",
    "    * Strings​ \n",
    "       * Casting von Strings\n",
    "    * Numbers​\n",
    "       * Integer\n",
    "       * Floating Point Numbers \n",
    "       * Casting von Numbers\n",
    "    * Boolean ​\n",
    "       * Casting von Booleans \n"
   ]
  },
  {
   "attachments": {},
   "cell_type": "markdown",
   "metadata": {
    "slideshow": {
     "slide_type": "fragment"
    }
   },
   "source": [
    "* print()\n"
   ]
  },
  {
   "attachments": {},
   "cell_type": "markdown",
   "metadata": {},
   "source": [
    "\n",
    "* input()"
   ]
  },
  {
   "attachments": {},
   "cell_type": "markdown",
   "metadata": {},
   "source": [
    "* Operatoren\n",
    "    * Arithmetische Operatoren\n",
    "    * Zuweisungsoperatoren\n",
    "    * Vergleichsoperatoren\n",
    "    * Logische Operatoren"
   ]
  },
  {
   "attachments": {},
   "cell_type": "markdown",
   "metadata": {},
   "source": [
    "* Lists"
   ]
  },
  {
   "attachments": {},
   "cell_type": "markdown",
   "metadata": {},
   "source": [
    "* Tupel"
   ]
  },
  {
   "attachments": {},
   "cell_type": "markdown",
   "metadata": {},
   "source": [
    "* Casting - Umwandlung von Datentypen"
   ]
  },
  {
   "attachments": {},
   "cell_type": "markdown",
   "metadata": {},
   "source": [
    "* If-else-Verzweigung"
   ]
  },
  {
   "attachments": {},
   "cell_type": "markdown",
   "metadata": {
    "slideshow": {
     "slide_type": "slide"
    }
   },
   "source": [
    "## $$\\textbf{Installationsanleitung für Python}$$\n",
    "<hr>"
   ]
  },
  {
   "attachments": {},
   "cell_type": "markdown",
   "metadata": {
    "slideshow": {
     "slide_type": "fragment"
    }
   },
   "source": [
    "* Lade den Python package manager herunter und installiere diesen, indem du folgenden Link nutzt: <a href='https://www.anaconda.com/products/distribution'>hier</a>:\n",
    "\n",
    "<br>\n",
    "<br>\n"
   ]
  },
  {
   "attachments": {},
   "cell_type": "markdown",
   "metadata": {
    "slideshow": {
     "slide_type": "slide"
    }
   },
   "source": [
    "### $$\\textbf{Installiere Python}$$\n",
    "<hr>"
   ]
  },
  {
   "attachments": {},
   "cell_type": "markdown",
   "metadata": {
    "slideshow": {
     "slide_type": "fragment"
    }
   },
   "source": [
    "* Öffne das Terminal und überprüfe, ob du Anaconda erfolgreich heruntergeladen hast, indem du folgendes eintippst:\n",
    "\n",
    "    <code> conda --version </code>\n",
    "\n",
    "<br>\n"
   ]
  },
  {
   "attachments": {},
   "cell_type": "markdown",
   "metadata": {
    "slideshow": {
     "slide_type": "fragment"
    }
   },
   "source": [
    "* Bilde eine virtuelle Umgebung, um Python Pakete zu installieren:\n",
    "\n",
    "    <code>conda create --name pyML </code>\n",
    "\n",
    "<br>\n"
   ]
  },
  {
   "attachments": {},
   "cell_type": "markdown",
   "metadata": {},
   "source": [
    "## $$\\textbf{Was ist Programmierung?}$$\n",
    "<hr>"
   ]
  },
  {
   "attachments": {},
   "cell_type": "markdown",
   "metadata": {},
   "source": [
    "* Damit Computer etwas tun, muss man ihnen Anweisungen geben\n",
    "* Anweisungen können durch Input-Geräte  (Tastatur & Maus) direkt eingegeben werden \n",
    "    * Anweisungen können aber auch in einer Datei gesammelt und von dort aus ausgeführt werden\n",
    "* Als Programmieren bezeichnet man in der Regel das Sammeln von Anweisungen mit einer  Syntax (Sprache) z.B. Python\n",
    "* Ein Computer versteht nur Maschinencode (lange Ketten von 0 und 1)\n",
    "* Dorthin werden die Anweisungen, vom für Menschen lesbaren Programmcode (Buchstabenketten),\n",
    "übersetzt (kompiliert) Compiler"
   ]
  },
  {
   "attachments": {},
   "cell_type": "markdown",
   "metadata": {},
   "source": [
    "## $$\\textbf{Kommentare}$$\n",
    "<hr>"
   ]
  },
  {
   "attachments": {},
   "cell_type": "markdown",
   "metadata": {},
   "source": [
    "* Kommentare werden genutzt, um den Code zu beschreiben\n",
    "* Dadurch können andere Teammitglieder den Code besser verstehen\n",
    "* Sie werden auch genutzt, um die Ausführung des Codes während der Tests zu verhindern\n",
    "* Es gibt 2 Kommentararten:\n",
    "    * Einzeilige Kommentare starten mit # \n",
    "    * Mehrzeilige Kommentare \"\"\"...\"\"\""
   ]
  },
  {
   "attachments": {},
   "cell_type": "markdown",
   "metadata": {},
   "source": [
    " * Einzeiliger Kommentar"
   ]
  },
  {
   "cell_type": "code",
   "execution_count": null,
   "metadata": {},
   "outputs": [],
   "source": [
    "print(\"Hallo, Welt!\") #Das ist ein Kommentar"
   ]
  },
  {
   "attachments": {},
   "cell_type": "markdown",
   "metadata": {},
   "source": [
    "* Mehrzeilige Kommentare \"\"\"...\"\"\""
   ]
  },
  {
   "cell_type": "code",
   "execution_count": 2,
   "metadata": {},
   "outputs": [
    {
     "name": "stdout",
     "output_type": "stream",
     "text": [
      "Hallo, Welt!\n"
     ]
    },
    {
     "data": {
      "text/plain": [
       "' Die Welt ist wunderbar \\nund der Kommentar ist in mehreren Zeilen geschrieben'"
      ]
     },
     "execution_count": 2,
     "metadata": {},
     "output_type": "execute_result"
    }
   ],
   "source": [
    "print(\"Hallo, Welt!\") \n",
    "\"\"\" Die Welt ist wunderbar \n",
    "und der Kommentar ist in mehreren Zeilen geschrieben\"\"\""
   ]
  },
  {
   "attachments": {},
   "cell_type": "markdown",
   "metadata": {},
   "source": [
    "Aufgabe 1: Schreibe in einem Satz, warum du gerne Programmieren lernen möchtest, als Kommentar"
   ]
  },
  {
   "cell_type": "code",
   "execution_count": null,
   "metadata": {},
   "outputs": [],
   "source": []
  },
  {
   "attachments": {},
   "cell_type": "markdown",
   "metadata": {
    "slideshow": {
     "slide_type": "slide"
    }
   },
   "source": [
    "## $$\\textbf{Variablen}$$\n",
    "<hr>"
   ]
  },
  {
   "attachments": {},
   "cell_type": "markdown",
   "metadata": {
    "slideshow": {
     "slide_type": "fragment"
    }
   },
   "source": [
    "* Variablen sind \"Boxen\" für Daten \n",
    "* Sobald man eine \"Box\" mit einem Wert befüllt $\\Rightarrow$ Variable \n",
    "* Benötigt man in einem Python-Programm beispielsweise den Wert 42, kann man sich diesen      mittels einer Variablen \"speichern\". Das geschieht mit einer Zuweisung:"
   ]
  },
  {
   "cell_type": "code",
   "execution_count": null,
   "metadata": {},
   "outputs": [],
   "source": [
    "zahl = 42"
   ]
  },
  {
   "attachments": {},
   "cell_type": "markdown",
   "metadata": {},
   "source": [
    "* Das Gleichheitszeichen ist **kein mathematisches Gleichheitszeichen**, sondern Der Variablen \"zahl\" wird der Wert 42 zugewiesen"
   ]
  },
  {
   "attachments": {},
   "cell_type": "markdown",
   "metadata": {},
   "source": [
    "### $$\\textbf{Regeln für Variablen}$$\n",
    "<hr>"
   ]
  },
  {
   "attachments": {},
   "cell_type": "markdown",
   "metadata": {},
   "source": [
    "* Variablen sollen beschreibende Namen haben\n",
    "* Python-Schlüsselwörter sind als Variablenname nicht erlaubt\n",
    "* Es wird bei den Namen zwischen Groß- und Kleinschreibung unterschieden\n",
    "* Name darf nur Buchstaben und Zahlen enthalten\n",
    "* Der Variablenname darf nicht mit Zahlen beginnen\n",
    "* Mehrere Worte werden mittels Unterstrich getrennt oder in camelCase geschrieben\n",
    "* Vermeide Umlaute wie z.B. Ä, Ö, Ü"
   ]
  },
  {
   "attachments": {},
   "cell_type": "markdown",
   "metadata": {},
   "source": [
    "### $$\\textbf{Welche Variablennamen sind erlaubt?}$$\n",
    "<hr>"
   ]
  },
  {
   "attachments": {},
   "cell_type": "markdown",
   "metadata": {},
   "source": [
    "3d\n",
    "wasd5\n",
    "class\n",
    "_X\n",
    "abcdefghi\n",
    "a+c\n",
    "test1-2-3 \n",
    "$sign"
   ]
  },
  {
   "attachments": {},
   "cell_type": "markdown",
   "metadata": {},
   "source": [
    "### $$\\textbf{Beispiele für die Variablendeklaration}$$\n",
    "<hr>"
   ]
  },
  {
   "cell_type": "code",
   "execution_count": 1,
   "metadata": {},
   "outputs": [
    {
     "name": "stdout",
     "output_type": "stream",
     "text": [
      "Emil\n"
     ]
    }
   ],
   "source": [
    "vorname = \"Emil\"\n",
    "print(vorname) #print druckt bzw. gibt etwas auf den Bildschirm aus, sodass es angezeigt wird"
   ]
  },
  {
   "cell_type": "code",
   "execution_count": 2,
   "metadata": {},
   "outputs": [
    {
     "name": "stdout",
     "output_type": "stream",
     "text": [
      "16\n"
     ]
    }
   ],
   "source": [
    "alter = 16\n",
    "print(alter)"
   ]
  },
  {
   "cell_type": "code",
   "execution_count": 4,
   "metadata": {},
   "outputs": [
    {
     "name": "stdout",
     "output_type": "stream",
     "text": [
      "True\n",
      "False\n"
     ]
    }
   ],
   "source": [
    "ist_wahr = True\n",
    "ist_falsch = False\n",
    "print(ist_wahr)\n",
    "print(ist_falsch)"
   ]
  },
  {
   "cell_type": "code",
   "execution_count": null,
   "metadata": {},
   "outputs": [],
   "source": [
    "Buchstabe = \"a\"\n",
    "print(Buchstabe)"
   ]
  },
  {
   "cell_type": "code",
   "execution_count": 5,
   "metadata": {},
   "outputs": [
    {
     "name": "stdout",
     "output_type": "stream",
     "text": [
      "2.65\n"
     ]
    }
   ],
   "source": [
    "Zahl = 2.65\n",
    "print(Zahl)"
   ]
  },
  {
   "attachments": {},
   "cell_type": "markdown",
   "metadata": {
    "slideshow": {
     "slide_type": "slide"
    }
   },
   "source": [
    "## $$\\textbf{Datentypen}$$\n",
    "<hr>"
   ]
  },
  {
   "attachments": {},
   "cell_type": "markdown",
   "metadata": {
    "slideshow": {
     "slide_type": "fragment"
    }
   },
   "source": [
    "* Python ist objektorientiert\n",
    "* Du brauchst die Variablen nicht zu deklarieren, bevor du sie nutzt\n",
    "* Jede Variable in Python ist ein Objekt\n",
    "* Es gibt folgende Datentypen:\n",
    "    * Strings\n",
    "    * Numbers\n",
    "    * Boolean \n",
    "    * Lists\n",
    "    * Tupel\n"
   ]
  },
  {
   "attachments": {},
   "cell_type": "markdown",
   "metadata": {},
   "source": [
    "### $$\\textbf{Strings}$$\n",
    "<hr>"
   ]
  },
  {
   "attachments": {},
   "cell_type": "markdown",
   "metadata": {},
   "source": [
    "* Strings sind Zeichenketten\n",
    "* Sie können aus 1 oder mehr Buchstaben bestehen\n",
    "* Strings können mit einem oder 2 Anführungszeichen geschrieben werden:"
   ]
  },
  {
   "cell_type": "code",
   "execution_count": null,
   "metadata": {},
   "outputs": [
    {
     "name": "stdout",
     "output_type": "stream",
     "text": [
      "hello\n",
      "hello\n"
     ]
    }
   ],
   "source": [
    "wort = 'hallo'\n",
    "print(wort)\n",
    "wort2 = \"hallo\"\n",
    "print(wort2)"
   ]
  },
  {
   "attachments": {},
   "cell_type": "markdown",
   "metadata": {},
   "source": [
    "* Strings können auch aus mehreren Wörtern bestehen"
   ]
  },
  {
   "cell_type": "code",
   "execution_count": null,
   "metadata": {},
   "outputs": [
    {
     "name": "stdout",
     "output_type": "stream",
     "text": [
      "Der Baum ist grün\n"
     ]
    }
   ],
   "source": [
    "Satz = \"Der Baum ist grün\"\n",
    "print(Satz)"
   ]
  },
  {
   "attachments": {},
   "cell_type": "markdown",
   "metadata": {},
   "source": [
    "* Strings können auch verkettet und ausgegeben werden"
   ]
  },
  {
   "cell_type": "code",
   "execution_count": 49,
   "metadata": {},
   "outputs": [
    {
     "name": "stdout",
     "output_type": "stream",
     "text": [
      "Der Baum ist grün und hat einige blühende Blüten !\n"
     ]
    }
   ],
   "source": [
    "Satz1 = \"Der Baum ist grün\"\n",
    "Satz2 = \"und hat einige blühende Blüten\"\n",
    "print(Satz1 , Satz2, \"!\")"
   ]
  },
  {
   "cell_type": "code",
   "execution_count": null,
   "metadata": {},
   "outputs": [
    {
     "name": "stdout",
     "output_type": "stream",
     "text": [
      "Hallo\n",
      "welt is here\n"
     ]
    }
   ],
   "source": [
    "print('Hallo')\n",
    "print('Welt' + ' ist hier') # stringverkettung mittels '+' "
   ]
  },
  {
   "attachments": {},
   "cell_type": "markdown",
   "metadata": {},
   "source": [
    "#### $$\\textbf{Casting von Strings}$$\n",
    "<hr>"
   ]
  },
  {
   "attachments": {},
   "cell_type": "markdown",
   "metadata": {},
   "source": [
    "* Strings können auch umgewandelt werden (gecastet)"
   ]
  },
  {
   "cell_type": "code",
   "execution_count": null,
   "metadata": {},
   "outputs": [],
   "source": [
    "x = str(\"s1\") # x wird 's1'\n",
    "y = str(2)    # y wird '2'\n",
    "z = str(3.0)  # z wird '3.0'"
   ]
  },
  {
   "attachments": {},
   "cell_type": "markdown",
   "metadata": {},
   "source": [
    "### $$\\textbf{Numbers}$$\n",
    "<hr>"
   ]
  },
  {
   "attachments": {},
   "cell_type": "markdown",
   "metadata": {},
   "source": [
    "* Es gibt in Python 2 Typen von Numbers:\n",
    "    * Integers\n",
    "    * Floating point numbers (decimals)\n",
    "\n",
    " $\\Rightarrow$ Es gibt die Möglichkeit die Numbers in den jeweils anderen Typ umzuwandeln (**Casting**)"
   ]
  },
  {
   "attachments": {},
   "cell_type": "markdown",
   "metadata": {},
   "source": [
    "#### $$\\textbf{Integer}$$\n",
    "<hr>"
   ]
  },
  {
   "attachments": {},
   "cell_type": "markdown",
   "metadata": {},
   "source": [
    "* Integer sind *ganze zahlen*\n",
    "* Um eine integer zu definieren, schreibe folgendes:"
   ]
  },
  {
   "cell_type": "code",
   "execution_count": null,
   "metadata": {},
   "outputs": [],
   "source": [
    "meine_int = 7\n",
    "print (meine_int)"
   ]
  },
  {
   "attachments": {},
   "cell_type": "markdown",
   "metadata": {},
   "source": [
    "Aufgabe 2: Definiere eine Variable mit dem Alter deines Sitznachbarn und gebe sie aus"
   ]
  },
  {
   "cell_type": "code",
   "execution_count": 6,
   "metadata": {},
   "outputs": [
    {
     "name": "stdout",
     "output_type": "stream",
     "text": [
      "14\n"
     ]
    }
   ],
   "source": [
    "alter = 14\n",
    "print(alter)"
   ]
  },
  {
   "attachments": {},
   "cell_type": "markdown",
   "metadata": {},
   "source": [
    "#### $$\\textbf{Floating point number}$$\n",
    "<hr>"
   ]
  },
  {
   "attachments": {},
   "cell_type": "markdown",
   "metadata": {},
   "source": [
    "* Floating point numbers sind *Kommazahlen*\n",
    "* Um eine Floating point number zu definieren, schreibe folgendes:"
   ]
  },
  {
   "cell_type": "code",
   "execution_count": null,
   "metadata": {},
   "outputs": [],
   "source": [
    "myfloat = 14.0"
   ]
  },
  {
   "attachments": {},
   "cell_type": "markdown",
   "metadata": {},
   "source": [
    "Aufgabe 3: Definiere eine Variable mit der Körpergröße deines Sitznachbars"
   ]
  },
  {
   "cell_type": "code",
   "execution_count": null,
   "metadata": {},
   "outputs": [],
   "source": [
    "groesse = 1.68"
   ]
  },
  {
   "attachments": {},
   "cell_type": "markdown",
   "metadata": {},
   "source": [
    "Aufgabe 4: Schreibe ein Programm, das den Namen, das Alter und die Klassenstufe eines Schülers erhält und ausgibt."
   ]
  },
  {
   "cell_type": "code",
   "execution_count": 55,
   "metadata": {},
   "outputs": [
    {
     "name": "stdout",
     "output_type": "stream",
     "text": [
      "Ich heiße Max und gehe in die Klasse 4 und bin  10 Jahre alt.\n"
     ]
    }
   ],
   "source": [
    "name = \"Max\"\n",
    "alter = 10\n",
    "klasse = 4\n",
    "print(\"Ich heiße\" , name , \"und gehe in die\" ,\"Klasse\", klasse , \"und bin \",  alter , \"Jahre alt.\")"
   ]
  },
  {
   "attachments": {},
   "cell_type": "markdown",
   "metadata": {},
   "source": [
    "#### $$\\textbf{Casting von Numbers}$$\n",
    "<hr>"
   ]
  },
  {
   "attachments": {},
   "cell_type": "markdown",
   "metadata": {},
   "source": [
    "* Mit hilfe von **Casting** kannst du eine Variable eines bestimmten Typs in einen anderen Typ umwandeln\n",
    "* Später wirst du sehen, wofür du das benötigst"
   ]
  },
  {
   "attachments": {},
   "cell_type": "markdown",
   "metadata": {},
   "source": [
    "* Die Variablen werden in **Integers** umgewandelt"
   ]
  },
  {
   "cell_type": "code",
   "execution_count": null,
   "metadata": {},
   "outputs": [],
   "source": [
    "x = int(1)   # x wird 1\n",
    "y = int(2.8) # y wird 2\n",
    "z = int(\"3\") # z wird 3"
   ]
  },
  {
   "attachments": {},
   "cell_type": "markdown",
   "metadata": {},
   "source": [
    "* Die Variablen werden in **Float pointing numbers** umgewandelt"
   ]
  },
  {
   "cell_type": "code",
   "execution_count": null,
   "metadata": {},
   "outputs": [],
   "source": [
    "x = float(1)     # x wird 1.0\n",
    "y = float(2.8)   # y wird 2.8\n",
    "z = float(\"3\")   # z wird 3.0\n",
    "w = float(\"4.2\") # w wird 4.2"
   ]
  },
  {
   "attachments": {},
   "cell_type": "markdown",
   "metadata": {},
   "source": [
    "Aufgabe 5:\n",
    "Gegeben ist eine Ganzzahl Alter. Schreibe ein Programm, das alter in eine Floating-Point-Zahl umwandelt und das Ergebnis ausgibt"
   ]
  },
  {
   "cell_type": "code",
   "execution_count": 29,
   "metadata": {},
   "outputs": [
    {
     "name": "stdout",
     "output_type": "stream",
     "text": [
      "Das Alter als Floating-Point-Zahl: 10.0\n"
     ]
    }
   ],
   "source": [
    "alter = 10\n",
    "alter_float = float(alter)\n",
    "print(\"Das Alter als Floating-Point-Zahl:\", alter_float)"
   ]
  },
  {
   "attachments": {},
   "cell_type": "markdown",
   "metadata": {},
   "source": [
    "Aufgabe 6: Gegeben ist eine Floating-Point-Zahl notenpunkte. Schreibe ein Programm, das Notenpunkte in eine Ganzzahl umwandelt, indem es die Nachkommastellen abschneidet, und das Ergebnis ausgibt."
   ]
  },
  {
   "cell_type": "code",
   "execution_count": 31,
   "metadata": {},
   "outputs": [
    {
     "name": "stdout",
     "output_type": "stream",
     "text": [
      "Die Notenpunkte als Ganzzahl: 3\n"
     ]
    }
   ],
   "source": [
    "notenpunkte = 3.7\n",
    "notenpunkte_gerundet = int(notenpunkte)\n",
    "print(\"Die Notenpunkte als Ganzzahl:\", notenpunkte_gerundet)"
   ]
  },
  {
   "attachments": {},
   "cell_type": "markdown",
   "metadata": {},
   "source": [
    "Aufgabe 7: Gegeben ist eine Floating-Point-Zahl Durchschnitt. Schreibe ein Programm, das durchschnitt zu einer Ganzzahl umwandelt, indem es auf die nächste ganze Zahl rundet, und das Ergebnis ausgibt."
   ]
  },
  {
   "cell_type": "code",
   "execution_count": null,
   "metadata": {},
   "outputs": [],
   "source": [
    "durchschnitt = 9.4\n",
    "durchschnitt_gerundet = round(durchschnitt)\n",
    "print(\"Der gerundete Durchschnitt als Ganzzahl:\", durchschnitt_gerundet)"
   ]
  },
  {
   "attachments": {},
   "cell_type": "markdown",
   "metadata": {},
   "source": [
    "Aufgabe 8: \n",
    "Gegeben sind zwei Ganzzahlen zahl1 und zahl2. Schreibe ein Programm, das das Ergebnis der Division von zahl1 durch zahl2 als Floating-Point-Zahl ausgibt."
   ]
  },
  {
   "cell_type": "code",
   "execution_count": 36,
   "metadata": {},
   "outputs": [
    {
     "name": "stdout",
     "output_type": "stream",
     "text": [
      "Das Ergebnis der Division als Floating-Point-Zahl: 3.3333333333333335\n"
     ]
    }
   ],
   "source": [
    "zahl1 = 10\n",
    "zahl2 = 3\n",
    "ergebnis = float(zahl1) / zahl2\n",
    "print(\"Das Ergebnis der Division als Floating-Point-Zahl:\", ergebnis)"
   ]
  },
  {
   "attachments": {},
   "cell_type": "markdown",
   "metadata": {},
   "source": [
    "### $$\\textbf{Boolean}$$\n",
    "<hr>"
   ]
  },
  {
   "attachments": {},
   "cell_type": "markdown",
   "metadata": {},
   "source": [
    "* Booleans sind Wahrheitswerte\n",
    "    * Sie können **TRUE** (wahr) oder **FALSE** (falsch) sein\n",
    "* Wenn 2 Werte miteinander verglichen werden, erhält man einen Wahrheitswert\n",
    "* Wenn man in einen Boolean castet, sind die meisten Werte True\n",
    "    * Alle Strings, Listen, Tupel, Set und Dictionary außer leere Strings sind **True**\n",
    "    * Jede Number außer 0 ist **True**\n",
    "* (), [], {}, \"\" und der Wert *None* sind **False**\n"
   ]
  },
  {
   "cell_type": "code",
   "execution_count": null,
   "metadata": {},
   "outputs": [
    {
     "name": "stdout",
     "output_type": "stream",
     "text": [
      "True\n",
      "False\n",
      "False\n"
     ]
    }
   ],
   "source": [
    "print(10 > 9)  #Ist 10 größer als 9?\n",
    "print(10 == 9) #Ist 10 gleich 9?\n",
    "print(10 < 9)  #Ist 10 kleiner als 9?\n"
   ]
  },
  {
   "attachments": {},
   "cell_type": "markdown",
   "metadata": {},
   "source": [
    "### $$\\textbf{Casting von Booleans}$$\n",
    "<hr>"
   ]
  },
  {
   "cell_type": "code",
   "execution_count": null,
   "metadata": {},
   "outputs": [
    {
     "name": "stdout",
     "output_type": "stream",
     "text": [
      "True\n",
      "True\n"
     ]
    }
   ],
   "source": [
    "print(bool(\"Hello\"))\n",
    "print(bool(15))"
   ]
  },
  {
   "attachments": {},
   "cell_type": "markdown",
   "metadata": {},
   "source": [
    "* Wenn mehrere Wahrheitswerte untereinander stehen, wird der gesamte Wahrheitswert berechnet\n",
    "* Welchen Wahrheitswert geben die folgenden Werte zurück?"
   ]
  },
  {
   "cell_type": "code",
   "execution_count": null,
   "metadata": {},
   "outputs": [
    {
     "data": {
      "text/plain": [
       "True"
      ]
     },
     "metadata": {},
     "output_type": "display_data"
    }
   ],
   "source": [
    "\n",
    "bool(\"abcde\")\n",
    "bool([\"Apfel\", \"Birne\", \"Kirsche\"])\n",
    "bool(123)"
   ]
  },
  {
   "cell_type": "code",
   "execution_count": null,
   "metadata": {},
   "outputs": [
    {
     "data": {
      "text/plain": [
       "False"
      ]
     },
     "metadata": {},
     "output_type": "display_data"
    }
   ],
   "source": [
    "bool({})\n",
    "bool(False)\n",
    "bool(None)\n",
    "bool(0)\n",
    "bool(\"\")\n",
    "bool(())\n",
    "bool([])"
   ]
  },
  {
   "cell_type": "code",
   "execution_count": null,
   "metadata": {},
   "outputs": [
    {
     "data": {
      "text/plain": [
       "True"
      ]
     },
     "metadata": {},
     "output_type": "display_data"
    }
   ],
   "source": [
    "'all' in 'hallo'"
   ]
  },
  {
   "cell_type": "code",
   "execution_count": null,
   "metadata": {},
   "outputs": [
    {
     "data": {
      "text/plain": [
       "False"
      ]
     },
     "metadata": {},
     "output_type": "display_data"
    }
   ],
   "source": [
    "'all ' in 'hallo'"
   ]
  },
  {
   "attachments": {},
   "cell_type": "markdown",
   "metadata": {},
   "source": [
    "## $$\\textbf{Print ()}$$\n",
    "<hr>"
   ]
  },
  {
   "attachments": {},
   "cell_type": "markdown",
   "metadata": {},
   "source": [
    "* Print ist eine Funktion, die Werte ausdruckt, die vorher festgelegt wurden\n",
    "* Beispiel:"
   ]
  },
  {
   "cell_type": "code",
   "execution_count": 72,
   "metadata": {},
   "outputs": [
    {
     "name": "stdout",
     "output_type": "stream",
     "text": [
      "Hello world!\n",
      "Es gibt insgesamt 225 Luftballons!\n"
     ]
    }
   ],
   "source": [
    "zahl1 = 222\n",
    "zahl2 = 3\n",
    "print(\"Hello world!\")\n",
    "print(\"Es gibt insgesamt\" , (zahl1+zahl2) , \"Luftballons!\")"
   ]
  },
  {
   "attachments": {},
   "cell_type": "markdown",
   "metadata": {},
   "source": [
    "## $$\\textbf{Input()}$$\n",
    "<hr>"
   ]
  },
  {
   "attachments": {},
   "cell_type": "markdown",
   "metadata": {},
   "source": [
    "* Input ist eine Funktion, die den Nutzer erlaubt eigene Daten einzugeben (Was eine Funktion ist, sehen wir später)\n",
    "* Ein Beispiel:"
   ]
  },
  {
   "cell_type": "code",
   "execution_count": null,
   "metadata": {},
   "outputs": [
    {
     "name": "stdout",
     "output_type": "stream",
     "text": [
      "Der Nutzername heißt: dffg\n"
     ]
    }
   ],
   "source": [
    "Nutzername= input(\"Gebe deinen Nutzernamen ein:\")\n",
    "print(\"Der Nutzername heißt: \" + Nutzername)"
   ]
  },
  {
   "attachments": {},
   "cell_type": "markdown",
   "metadata": {},
   "source": [
    "Aufgabe 9: Deklariere Variablen mit deinem Namen, Alter, Körpergröße, Geschlecht, Sprichst du französisch (Ja, nein?). Deklariere die Variablen mithilfe der Eingabe und bilde aus den Variablen einen vollständigen Satz."
   ]
  },
  {
   "cell_type": "code",
   "execution_count": null,
   "metadata": {},
   "outputs": [],
   "source": [
    "Name = \"Jan\"\n",
    "Alter = 24\n",
    "Körpergroesse = 1.68\n",
    "Geschlecht = \"m\"\n",
    "französisch = True\n"
   ]
  },
  {
   "attachments": {},
   "cell_type": "markdown",
   "metadata": {},
   "source": [
    "## $$\\textbf{Operatoren}$$\n",
    "<hr>"
   ]
  },
  {
   "attachments": {},
   "cell_type": "markdown",
   "metadata": {},
   "source": [
    "* Operatoren sind Werkzeuge für ein Programm\n",
    "* Es gibt verschiedene Arten von Operatoren in Python und wir schauen uns folgende an:\n",
    "    * Arithmetische Operatoren\n",
    "    * Zuweisungsoperatoren\n",
    "    * Vergleichsoperatoren\n",
    "    * Logische Operatoren"
   ]
  },
  {
   "attachments": {},
   "cell_type": "markdown",
   "metadata": {},
   "source": [
    "### $$\\textbf{Arithmetische Operatoren}$$\n",
    "<hr>"
   ]
  },
  {
   "attachments": {},
   "cell_type": "markdown",
   "metadata": {},
   "source": [
    "* Arithmetische Operatoren kennt ihr bereits aus der Mathematik:\n",
    "* \"+\" $\\Rightarrow$ Plus-Rechnung\n",
    "* \"-\" $\\Rightarrow$ Minus-Rechnung\n",
    "* \"*\" $\\Rightarrow$ Mal-Rechnung\n",
    "* \"/\" $\\Rightarrow$ Geteilt-Rechnung\n",
    "* \"%\" $\\Rightarrow$ Rest-Rechnung\n",
    "* // $\\Rightarrow$ Geteilt-Rechnung mit Abrundung\n",
    "* \"**\" $\\Rightarrow$ Exponentialrechnung"
   ]
  },
  {
   "attachments": {},
   "cell_type": "markdown",
   "metadata": {},
   "source": [
    "\n",
    " * Plus- und Minus-Rechnung:\n",
    " $\\quad 2 + 3, \\> 3 - 5\\>$ \n"
   ]
  },
  {
   "cell_type": "code",
   "execution_count": null,
   "metadata": {},
   "outputs": [
    {
     "data": {
      "text/plain": [
       "(5, -2, 8, 1.3333333333333333)"
      ]
     },
     "metadata": {},
     "output_type": "display_data"
    }
   ],
   "source": [
    "2 + 3, 3 - 5"
   ]
  },
  {
   "attachments": {},
   "cell_type": "markdown",
   "metadata": {},
   "source": [
    " * Mal- und Geteilt-Rechnung: $\\quad 4 \\cdot 2 ,\\>  \\frac{4}{3}$"
   ]
  },
  {
   "cell_type": "code",
   "execution_count": null,
   "metadata": {},
   "outputs": [],
   "source": [
    "4 * 2 , 4 / 3 "
   ]
  },
  {
   "attachments": {},
   "cell_type": "markdown",
   "metadata": {},
   "source": [
    " * Exponent and Wurzel: $\\quad  3^2, \\> \\sqrt9, \\> \\frac{1}{\\sqrt{4}}, \\> \\sqrt[3]{9^2}$"
   ]
  },
  {
   "cell_type": "code",
   "execution_count": null,
   "metadata": {},
   "outputs": [
    {
     "data": {
      "text/plain": [
       "(9, 3.0, 0.5, 4.3267487109222245)"
      ]
     },
     "metadata": {},
     "output_type": "display_data"
    }
   ],
   "source": [
    "3**2, 9**0.5,  4**-0.5, 9**(2/3) "
   ]
  },
  {
   "attachments": {},
   "cell_type": "markdown",
   "metadata": {},
   "source": [
    " * Geteilt-Rechnung mit Abrundung"
   ]
  },
  {
   "cell_type": "code",
   "execution_count": null,
   "metadata": {},
   "outputs": [
    {
     "data": {
      "text/plain": [
       "(3, 2, 256)"
      ]
     },
     "metadata": {},
     "output_type": "display_data"
    }
   ],
   "source": [
    "10 // 3"
   ]
  },
  {
   "attachments": {},
   "cell_type": "markdown",
   "metadata": {},
   "source": [
    "* Modulo"
   ]
  },
  {
   "cell_type": "code",
   "execution_count": null,
   "metadata": {},
   "outputs": [],
   "source": [
    "5 % 3"
   ]
  },
  {
   "attachments": {},
   "cell_type": "markdown",
   "metadata": {},
   "source": [
    "* Operatoren können auch in komplizierteren Berechnungen gepackt werden:"
   ]
  },
  {
   "cell_type": "code",
   "execution_count": null,
   "metadata": {},
   "outputs": [
    {
     "name": "stdout",
     "output_type": "stream",
     "text": [
      "6.0\n",
      "4\n"
     ]
    }
   ],
   "source": [
    "\n",
    "ergebnis = 6 / 3 * (1 + 2)\n",
    "print(ergebnis)\n",
    "\n",
    "ergebnis = 4  \n",
    "print(ergebnis)\n"
   ]
  },
  {
   "attachments": {},
   "cell_type": "markdown",
   "metadata": {},
   "source": [
    "Aufgabe 10: \n",
    "Schreibe ein Programm, das die Summe von zwei Zahlen berechnet und ausgibt.\n"
   ]
  },
  {
   "cell_type": "code",
   "execution_count": 37,
   "metadata": {},
   "outputs": [
    {
     "name": "stdout",
     "output_type": "stream",
     "text": [
      "Die Summe ist: 8\n"
     ]
    }
   ],
   "source": [
    "zahl1 = 5\n",
    "zahl2 = 3\n",
    "summe = zahl1 + zahl2\n",
    "print(\"Die Summe ist:\", summe)"
   ]
  },
  {
   "attachments": {},
   "cell_type": "markdown",
   "metadata": {},
   "source": [
    "Aufgabe 11: Schreibe ein Programm, das die Differenz zwischen zwei Zahlen berechnet und ausgibt."
   ]
  },
  {
   "cell_type": "code",
   "execution_count": null,
   "metadata": {},
   "outputs": [],
   "source": [
    "zahl1 = 8\n",
    "zahl2 = 4\n",
    "differenz = zahl1 - zahl2\n",
    "print(\"Die Differenz ist:\", differenz)"
   ]
  },
  {
   "attachments": {},
   "cell_type": "markdown",
   "metadata": {},
   "source": [
    "Aufgabe 12: Schreibe ein Programm, das das Produkt von zwei Zahlen berechnet und ausgibt.\n"
   ]
  },
  {
   "cell_type": "code",
   "execution_count": null,
   "metadata": {},
   "outputs": [],
   "source": [
    "zahl1 = 6\n",
    "zahl2 = 2\n",
    "produkt = zahl1 * zahl2\n",
    "print(\"Das Produkt ist:\", produkt)\n"
   ]
  },
  {
   "attachments": {},
   "cell_type": "markdown",
   "metadata": {},
   "source": [
    "Aufgabe 13: Schreibe ein Programm, das den Quotienten von zwei Zahlen berechnet und ausgibt."
   ]
  },
  {
   "cell_type": "code",
   "execution_count": null,
   "metadata": {},
   "outputs": [],
   "source": [
    "zahl1 = 10\n",
    "zahl2 = 2\n",
    "quotient = zahl1 / zahl2\n",
    "print(\"Der Quotient ist:\", quotient)"
   ]
  },
  {
   "attachments": {},
   "cell_type": "markdown",
   "metadata": {},
   "source": [
    "Aufgabe 14: Schreibe ein Programm, das den Rest bei der Division von zwei Zahlen berechnet und ausgibt."
   ]
  },
  {
   "cell_type": "code",
   "execution_count": null,
   "metadata": {},
   "outputs": [],
   "source": [
    "zahl1 = 13\n",
    "zahl2 = 5\n",
    "rest = zahl1 % zahl2\n",
    "print(\"Der Rest ist:\", rest)"
   ]
  },
  {
   "attachments": {},
   "cell_type": "markdown",
   "metadata": {},
   "source": [
    "Aufgabe 15: Schreibe ein Programm, das den Quotienten von zwei Zahlen berechnet und das Ergebnis auf die nächste ganze Zahl abrundet."
   ]
  },
  {
   "cell_type": "code",
   "execution_count": 38,
   "metadata": {},
   "outputs": [
    {
     "name": "stdout",
     "output_type": "stream",
     "text": [
      "Der abgerundete Quotient ist: 3\n"
     ]
    }
   ],
   "source": [
    "import math\n",
    "\n",
    "zahl1 = 10\n",
    "zahl2 = 3\n",
    "quotient_abgerundet = 10//3\n",
    "print(\"Der abgerundete Quotient ist:\", quotient_abgerundet)\n"
   ]
  },
  {
   "attachments": {},
   "cell_type": "markdown",
   "metadata": {},
   "source": [
    "Aufgabe 16: Schreibe ein Programm, das die Potenz einer Zahl berechnet und ausgibt."
   ]
  },
  {
   "cell_type": "code",
   "execution_count": null,
   "metadata": {},
   "outputs": [],
   "source": [
    "zahl = 2\n",
    "exponent = 3\n",
    "ergebnis = zahl ** exponent\n",
    "print(\"Das Ergebnis der Potenzrechnung ist:\", ergebnis)"
   ]
  },
  {
   "attachments": {},
   "cell_type": "markdown",
   "metadata": {},
   "source": [
    "Aufgabe 17: Schreibe ein Programm, das das Geburtsjahr deines Sitznachbarn und das aktuelle Jahr verwendet, um das Alter zu berechnen und auszugeben."
   ]
  },
  {
   "cell_type": "code",
   "execution_count": 40,
   "metadata": {},
   "outputs": [
    {
     "name": "stdout",
     "output_type": "stream",
     "text": [
      "Dein Alter ist:  15\n"
     ]
    }
   ],
   "source": [
    "geburtsjahr = 2008\n",
    "aktuellesJahr = 2023\n",
    "alter = aktuellesJahr - geburtsjahr\n",
    "print(\"Dein Alter ist: \", alter)"
   ]
  },
  {
   "attachments": {},
   "cell_type": "markdown",
   "metadata": {},
   "source": [
    "Aufgabe 18: Schreibe ein Programm, das die Länge und Breite eines Rechtecks erhält und die Fläche berechnet."
   ]
  },
  {
   "cell_type": "code",
   "execution_count": 43,
   "metadata": {},
   "outputs": [
    {
     "name": "stdout",
     "output_type": "stream",
     "text": [
      "Die Fläche des Rechtecks beträgt:  15\n"
     ]
    }
   ],
   "source": [
    "laenge = 5\n",
    "breite = 3\n",
    "flaeche = laenge * breite\n",
    "print(\"Die Fläche des Rechtecks beträgt: \", flaeche)"
   ]
  },
  {
   "attachments": {},
   "cell_type": "markdown",
   "metadata": {},
   "source": [
    "### $$\\textbf{Zuweisungsoperatoren}$$\n",
    "<hr>"
   ]
  },
  {
   "attachments": {},
   "cell_type": "markdown",
   "metadata": {},
   "source": [
    "* Zuweisungsoperatoren kennt ihr bereits aus der Mathematik:\n",
    "    * \"=\" $\\Rightarrow$ x = 5\n",
    "    * \"+=\" $\\Rightarrow$ x = x + 3\n",
    "    * \"-=\" $\\Rightarrow$ x = x-3\n",
    "    * \"/=\" $\\Rightarrow$ x = x/3\n",
    "    * \"%=\" $\\Rightarrow$ x = x%3\n",
    "    * \"//=\" $\\Rightarrow$ x = x//3\n"
   ]
  },
  {
   "attachments": {},
   "cell_type": "markdown",
   "metadata": {},
   "source": [
    "Aufgabe 19: Schreibe ein Programm, das eine Zahl zuweist und sie ausgibt."
   ]
  },
  {
   "cell_type": "code",
   "execution_count": null,
   "metadata": {},
   "outputs": [],
   "source": [
    "zahl = 5\n",
    "print(\"Die Zahl ist:\", zahl)"
   ]
  },
  {
   "attachments": {},
   "cell_type": "markdown",
   "metadata": {},
   "source": [
    "Aufgabe 20: Schreibe ein Programm, das einer Zahl einen Wert zuweist und dann diesen Wert um eine andere Zahl erhöht."
   ]
  },
  {
   "cell_type": "code",
   "execution_count": null,
   "metadata": {},
   "outputs": [],
   "source": [
    "zahl = 10\n",
    "zahl += 3\n",
    "print(\"Die Zahl ist:\", zahl)"
   ]
  },
  {
   "attachments": {},
   "cell_type": "markdown",
   "metadata": {},
   "source": [
    "Aufgabe 21: Schreibe ein Programm, das einer Zahl einen Wert zuweist und dann diesen Wert um eine andere Zahl verringert."
   ]
  },
  {
   "cell_type": "code",
   "execution_count": null,
   "metadata": {},
   "outputs": [],
   "source": [
    "zahl = 15\n",
    "zahl -= 7\n",
    "print(\"Die Zahl ist:\", zahl)\n"
   ]
  },
  {
   "attachments": {},
   "cell_type": "markdown",
   "metadata": {},
   "source": [
    "Aufgabe 22: Schreibe ein Programm, das einer Zahl einen Wert zuweist und dann diesen Wert durch eine andere Zahl teilt.\n"
   ]
  },
  {
   "cell_type": "code",
   "execution_count": null,
   "metadata": {},
   "outputs": [],
   "source": [
    "zahl = 20\n",
    "zahl /= 4\n",
    "print(\"Die Zahl ist:\", zahl)"
   ]
  },
  {
   "attachments": {},
   "cell_type": "markdown",
   "metadata": {},
   "source": [
    "Aufgabe 23: Schreibe ein Programm, das einer Zahl einen Wert zuweist und dann den Rest der Division durch eine andere Zahl berechnet."
   ]
  },
  {
   "cell_type": "code",
   "execution_count": null,
   "metadata": {},
   "outputs": [],
   "source": [
    "zahl = 17\n",
    "zahl %= 5\n",
    "print(\"Der Rest ist:\", zahl)\n"
   ]
  },
  {
   "attachments": {},
   "cell_type": "markdown",
   "metadata": {},
   "source": [
    "Aufgabe 24: \n",
    "Schreibe ein Programm, das einer Zahl einen Wert zuweist und dann die ganzzahlige Division durch eine andere Zahl durchführt."
   ]
  },
  {
   "cell_type": "code",
   "execution_count": null,
   "metadata": {},
   "outputs": [],
   "source": [
    "zahl = 25\n",
    "zahl //= 4\n",
    "print(\"Das Ergebnis der ganzzahligen Division ist:\", zahl)"
   ]
  },
  {
   "attachments": {},
   "cell_type": "markdown",
   "metadata": {},
   "source": [
    "### $$\\textbf{Vergleichsoperatoren}$$\n",
    "<hr>"
   ]
  },
  {
   "attachments": {},
   "cell_type": "markdown",
   "metadata": {},
   "source": [
    "* Vergleichsoperatoren werden verwendet, um 2 Werte miteinander zu vergleichen\n",
    "* Es gibt folgende Vergleichsoperatoren:\n",
    "    * \"==\" $\\Rightarrow$ 4 == 5 #Ist 4 das gleiche wie 5? -> Nein!\n",
    "    * \"!=\" $\\Rightarrow$ Birne != Apfel #Eine Birne ist nicht das gleiche wie ein Apfel\n",
    "    * \">\" $\\Rightarrow$ 15 > 4 #Die Zahl 15 ist größer als 4\n",
    "    * \"<\" $\\Rightarrow$ 6 < 10 #Die Zahl 6 ist kleiner als 10\n",
    "    * \">=\" $\\Rightarrow$ 10 >= 10 #10 ist größer oder gleich 10\n",
    "    * \"<=\" $\\Rightarrow$ 3 <= 7 #3 ist kleiner oder gleich 7"
   ]
  },
  {
   "attachments": {},
   "cell_type": "markdown",
   "metadata": {},
   "source": [
    "Aufgabe 25: Ist 3*20 das gleiche wie 5*12?"
   ]
  },
  {
   "cell_type": "code",
   "execution_count": 46,
   "metadata": {},
   "outputs": [
    {
     "data": {
      "text/plain": [
       "True"
      ]
     },
     "execution_count": 46,
     "metadata": {},
     "output_type": "execute_result"
    }
   ],
   "source": [
    "rechnung1 = 3*20\n",
    "rechnung2 = 5*12\n",
    "\n",
    "rechnung1 == rechnung2"
   ]
  },
  {
   "attachments": {},
   "cell_type": "markdown",
   "metadata": {},
   "source": [
    "Aufgabe 26: Ist 4 ungleich 2*2?"
   ]
  },
  {
   "cell_type": "code",
   "execution_count": 56,
   "metadata": {},
   "outputs": [
    {
     "data": {
      "text/plain": [
       "False"
      ]
     },
     "execution_count": 56,
     "metadata": {},
     "output_type": "execute_result"
    }
   ],
   "source": [
    "4 != 2*2"
   ]
  },
  {
   "attachments": {},
   "cell_type": "markdown",
   "metadata": {},
   "source": [
    "Aufgabe 27: Ist 12 größer 32 ?"
   ]
  },
  {
   "cell_type": "code",
   "execution_count": 57,
   "metadata": {},
   "outputs": [
    {
     "data": {
      "text/plain": [
       "False"
      ]
     },
     "execution_count": 57,
     "metadata": {},
     "output_type": "execute_result"
    }
   ],
   "source": [
    "12 > 32 "
   ]
  },
  {
   "attachments": {},
   "cell_type": "markdown",
   "metadata": {},
   "source": [
    "Aufgabe 28: Ist 10 kleiner 100?"
   ]
  },
  {
   "cell_type": "code",
   "execution_count": 58,
   "metadata": {},
   "outputs": [
    {
     "data": {
      "text/plain": [
       "True"
      ]
     },
     "execution_count": 58,
     "metadata": {},
     "output_type": "execute_result"
    }
   ],
   "source": [
    "10 < 100"
   ]
  },
  {
   "attachments": {},
   "cell_type": "markdown",
   "metadata": {},
   "source": [
    "Aufgabe 29: Ist 3 größer gleich 1*2 ?"
   ]
  },
  {
   "cell_type": "code",
   "execution_count": 60,
   "metadata": {},
   "outputs": [
    {
     "data": {
      "text/plain": [
       "True"
      ]
     },
     "execution_count": 60,
     "metadata": {},
     "output_type": "execute_result"
    }
   ],
   "source": [
    "3 >= 1*2"
   ]
  },
  {
   "attachments": {},
   "cell_type": "markdown",
   "metadata": {},
   "source": [
    "Aufgabe 30: Ist 78 kleiner gleich 9*9 ?"
   ]
  },
  {
   "cell_type": "code",
   "execution_count": 59,
   "metadata": {},
   "outputs": [
    {
     "data": {
      "text/plain": [
       "True"
      ]
     },
     "execution_count": 59,
     "metadata": {},
     "output_type": "execute_result"
    }
   ],
   "source": [
    "7*8 <= 9*9"
   ]
  },
  {
   "attachments": {},
   "cell_type": "markdown",
   "metadata": {},
   "source": [
    "### $$\\textbf{Logische Operatoren}$$\n",
    "<hr>"
   ]
  },
  {
   "attachments": {},
   "cell_type": "markdown",
   "metadata": {},
   "source": [
    "* Logische Operatoren geben immer einen Wahrheitswert zurück\n",
    "* Es gibt 3 verschiedene Operatoren:\n",
    "    * and\n",
    "    * or\n",
    "    * not"
   ]
  },
  {
   "attachments": {},
   "cell_type": "markdown",
   "metadata": {},
   "source": [
    "* **and** $\\Rightarrow$ gibt **True** zurück, wenn beide Statements wahr sind:"
   ]
  },
  {
   "cell_type": "code",
   "execution_count": null,
   "metadata": {},
   "outputs": [
    {
     "data": {
      "text/plain": [
       "True"
      ]
     },
     "metadata": {},
     "output_type": "display_data"
    }
   ],
   "source": [
    "x < 4 and x < 13"
   ]
  },
  {
   "attachments": {},
   "cell_type": "markdown",
   "metadata": {},
   "source": [
    "* **or** $\\Rightarrow$ gibt **True** zurück, wenn eines der Statements wahr ist:"
   ]
  },
  {
   "cell_type": "code",
   "execution_count": 65,
   "metadata": {},
   "outputs": [
    {
     "data": {
      "text/plain": [
       "True"
      ]
     },
     "execution_count": 65,
     "metadata": {},
     "output_type": "execute_result"
    }
   ],
   "source": [
    "x > 4 or x < 4"
   ]
  },
  {
   "attachments": {},
   "cell_type": "markdown",
   "metadata": {},
   "source": [
    "* **not** $\\Rightarrow$ kehrt das Ergebnis um und gibt **False** zurück, wenn das Ergebnis wahr ist:"
   ]
  },
  {
   "cell_type": "code",
   "execution_count": 61,
   "metadata": {},
   "outputs": [
    {
     "data": {
      "text/plain": [
       "False"
      ]
     },
     "execution_count": 61,
     "metadata": {},
     "output_type": "execute_result"
    }
   ],
   "source": [
    "not(x < 5 and x < 10)"
   ]
  },
  {
   "attachments": {},
   "cell_type": "markdown",
   "metadata": {},
   "source": [
    " x < 4 and x < 13"
   ]
  },
  {
   "attachments": {},
   "cell_type": "markdown",
   "metadata": {},
   "source": [
    "Aufgabe 31: Was ergibt True and False?"
   ]
  },
  {
   "cell_type": "code",
   "execution_count": null,
   "metadata": {},
   "outputs": [],
   "source": [
    "# False"
   ]
  },
  {
   "attachments": {},
   "cell_type": "markdown",
   "metadata": {},
   "source": [
    "Aufgabe 32: Was ergibt not(True and (not False))?"
   ]
  },
  {
   "cell_type": "code",
   "execution_count": null,
   "metadata": {},
   "outputs": [],
   "source": [
    "# False"
   ]
  },
  {
   "attachments": {},
   "cell_type": "markdown",
   "metadata": {},
   "source": [
    "Aufgabe 33: Was ergibt True or False?"
   ]
  },
  {
   "cell_type": "code",
   "execution_count": null,
   "metadata": {},
   "outputs": [],
   "source": [
    "# True"
   ]
  },
  {
   "attachments": {},
   "cell_type": "markdown",
   "metadata": {},
   "source": [
    "Aufgabe 34:\n",
    "x = 1\n",
    "y = 0\n",
    "z = 1\n",
    "\n",
    "Was ergibt (x and z) or y?"
   ]
  },
  {
   "cell_type": "code",
   "execution_count": null,
   "metadata": {},
   "outputs": [],
   "source": [
    "# 1"
   ]
  },
  {
   "attachments": {},
   "cell_type": "markdown",
   "metadata": {},
   "source": [
    "Aufgabe 35: Was ergibt bool(x and z) or False?"
   ]
  },
  {
   "cell_type": "code",
   "execution_count": null,
   "metadata": {},
   "outputs": [],
   "source": [
    "# True"
   ]
  },
  {
   "attachments": {},
   "cell_type": "markdown",
   "metadata": {},
   "source": [
    "Aufgabe 36: Was ergibt (not (x and y and z)) or (not bool(x)) ?"
   ]
  },
  {
   "cell_type": "code",
   "execution_count": null,
   "metadata": {},
   "outputs": [],
   "source": [
    "# True"
   ]
  },
  {
   "attachments": {},
   "cell_type": "markdown",
   "metadata": {},
   "source": [
    "Aufgabe 36: Was ergibt not ((not (x and y and z)) or (not bool(x)))?"
   ]
  },
  {
   "cell_type": "code",
   "execution_count": null,
   "metadata": {},
   "outputs": [],
   "source": [
    "# False"
   ]
  },
  {
   "attachments": {},
   "cell_type": "markdown",
   "metadata": {},
   "source": [
    "## $$\\textbf{Lists}$$\n",
    "<hr>"
   ]
  },
  {
   "attachments": {},
   "cell_type": "markdown",
   "metadata": {},
   "source": [
    "* Listen werden genutzt, um verschiedene Dinge in eine einzige Variable zu packen\n",
    "* Das erste Element einer Liste hat den Index 0, also ist an 0ter Stelle\n",
    "* Sie werden mit geschweiften Klammern erstellt:"
   ]
  },
  {
   "cell_type": "code",
   "execution_count": 21,
   "metadata": {},
   "outputs": [
    {
     "name": "stdout",
     "output_type": "stream",
     "text": [
      "{'Kirschen', 'Wasser', 'Brot', 'Bananen'}\n"
     ]
    }
   ],
   "source": [
    "Einkaufsliste = {\"Brot\", \"Bananen\", \"Wasser\", \"Kirschen\"}\n",
    "print(Einkaufsliste)"
   ]
  },
  {
   "attachments": {},
   "cell_type": "markdown",
   "metadata": {},
   "source": [
    "* Listen können auch verkettet werden"
   ]
  },
  {
   "cell_type": "code",
   "execution_count": null,
   "metadata": {},
   "outputs": [
    {
     "data": {
      "text/plain": [
       "[1, 2, 3, 2, 3, 4]"
      ]
     },
     "metadata": {},
     "output_type": "display_data"
    }
   ],
   "source": [
    "# Plus-Operation bei Listen\n",
    "[1, 2, 3] + [2, 3, 4]"
   ]
  },
  {
   "attachments": {},
   "cell_type": "markdown",
   "metadata": {},
   "source": [
    "* Listen können auch wiederholt werden"
   ]
  },
  {
   "cell_type": "code",
   "execution_count": null,
   "metadata": {},
   "outputs": [
    {
     "data": {
      "text/plain": [
       "([1, 2, 1, 2, 1, 2], '+=+=+=+=+=+=+=+=+=+=')"
      ]
     },
     "metadata": {},
     "output_type": "display_data"
    }
   ],
   "source": [
    "# Wiederholung Mal-Rechnung\n",
    "3 * [1, 2], 10 * '+='"
   ]
  },
  {
   "attachments": {},
   "cell_type": "markdown",
   "metadata": {},
   "source": [
    "* Zugriff auf das einzelne Element"
   ]
  },
  {
   "cell_type": "code",
   "execution_count": null,
   "metadata": {},
   "outputs": [
    {
     "data": {
      "text/plain": [
       "(1, 4)"
      ]
     },
     "metadata": {},
     "output_type": "display_data"
    }
   ],
   "source": [
    "lst = [4, 2, 1, 5, 3]\n",
    "\n",
    "lst[2], lst[0]"
   ]
  },
  {
   "attachments": {},
   "cell_type": "markdown",
   "metadata": {},
   "source": [
    "Aufgabe 37: Erstelle eine Liste, mit Dingen, die du dabei hast"
   ]
  },
  {
   "cell_type": "code",
   "execution_count": null,
   "metadata": {},
   "outputs": [],
   "source": []
  },
  {
   "attachments": {},
   "cell_type": "markdown",
   "metadata": {},
   "source": [
    "Aufgabe 38: Greife auf die Variablen 30, 100 und 4 zu"
   ]
  },
  {
   "cell_type": "code",
   "execution_count": null,
   "metadata": {},
   "outputs": [],
   "source": [
    "liste = [30,400,5,20,35,100,7,9,4]"
   ]
  },
  {
   "cell_type": "code",
   "execution_count": null,
   "metadata": {},
   "outputs": [],
   "source": []
  },
  {
   "attachments": {},
   "cell_type": "markdown",
   "metadata": {},
   "source": [
    "## $$\\textbf{Tupel}$$\n",
    "<hr>"
   ]
  },
  {
   "attachments": {},
   "cell_type": "markdown",
   "metadata": {},
   "source": [
    "* Tupel werden verwendet, um mehrere Elemente in einer einzigen Variable zu verwenden\n",
    "* Wenn ihr Werte habt, die nicht überschrieben werden sollen $\\rightarrow$ Tupel\n",
    "* Die Werte eines Tupels sind nicht veränderlich (immutable)\n",
    "* Sie können doppelte Werte enthalten"
   ]
  },
  {
   "cell_type": "code",
   "execution_count": 66,
   "metadata": {},
   "outputs": [
    {
     "name": "stdout",
     "output_type": "stream",
     "text": [
      "('Apfel', 'Birne', 'Banane', 'Aofel', 'Kirsche', 'Ananas')\n"
     ]
    }
   ],
   "source": [
    "Obst = (\"Apfel\", \"Birne\", \"Banane\", \"Aofel\", \"Kirsche\", \"Ananas\") \n",
    "print(Obst)"
   ]
  },
  {
   "attachments": {},
   "cell_type": "markdown",
   "metadata": {},
   "source": [
    "Aufgabe 39: Schreibe ein Programm, das deine Schulfächer darstellt und gebe als ganzen Satz aus, welche Schulfächer du hast."
   ]
  },
  {
   "cell_type": "code",
   "execution_count": 68,
   "metadata": {},
   "outputs": [
    {
     "name": "stdout",
     "output_type": "stream",
     "text": [
      "Ich habe  ('Mathematik', 'Deutsch', 'Englisch', 'Biologie', 'Sport') in der Schule.\n"
     ]
    }
   ],
   "source": [
    "schulfaecher = (\"Mathematik\", \"Deutsch\", \"Englisch\", \"Biologie\", \"Sport\")\n",
    "\n",
    "print(\"Ich habe \", schulfaecher ,\"in der Schule.\")\n"
   ]
  },
  {
   "attachments": {},
   "cell_type": "markdown",
   "metadata": {},
   "source": [
    "Aufgabe 40: Schreibe ein Programm, das verschiedene Farben in einem Tupel darstellt und die Farben nacheinander ausgibt."
   ]
  },
  {
   "cell_type": "code",
   "execution_count": 69,
   "metadata": {},
   "outputs": [
    {
     "name": "stdout",
     "output_type": "stream",
     "text": [
      "Verfügbare Farben: ('Rot', 'Grün', 'Blau', 'Gelb')\n"
     ]
    }
   ],
   "source": [
    "farben = (\"Rot\", \"Grün\", \"Blau\", \"Gelb\")\n",
    "\n",
    "print(\"Verfügbare Farben:\", farben)"
   ]
  },
  {
   "attachments": {},
   "cell_type": "markdown",
   "metadata": {},
   "source": [
    "Aufgabe 41:\n",
    "* Was passiert, wenn ich für das oben definierte Tupel \"farben\" den Wert an der Stelle 0 neu deklariere? Also: ```tup[0] = 5```\n",
    "* Habt ihr eine Idee, wie man trotzdem mit den Werten eines Tupels arbeiten kann (inklusive, sie zu verändern)?"
   ]
  },
  {
   "attachments": {},
   "cell_type": "markdown",
   "metadata": {
    "slideshow": {
     "slide_type": "slide"
    }
   },
   "source": [
    "## $$\\textbf{Casting}\\> \\text{- Umwandlung von Datentypen}$$\n",
    "<hr>"
   ]
  },
  {
   "cell_type": "code",
   "execution_count": 20,
   "metadata": {
    "slideshow": {
     "slide_type": "fragment"
    }
   },
   "outputs": [
    {
     "data": {
      "text/plain": [
       "(45, False, True, 1, 4.0, 42.0)"
      ]
     },
     "execution_count": 20,
     "metadata": {},
     "output_type": "execute_result"
    }
   ],
   "source": [
    "int(\"45\"), bool(0), bool(23), int(4/3), float(2 + 2), float('42')"
   ]
  },
  {
   "cell_type": "code",
   "execution_count": 21,
   "metadata": {
    "slideshow": {
     "slide_type": "fragment"
    }
   },
   "outputs": [
    {
     "data": {
      "text/plain": [
       "(1, 2, False, True)"
      ]
     },
     "execution_count": 21,
     "metadata": {},
     "output_type": "execute_result"
    }
   ],
   "source": [
    " int(1.99), round(1.59), bool(\"\"), bool(\" \")"
   ]
  },
  {
   "attachments": {},
   "cell_type": "markdown",
   "metadata": {
    "slideshow": {
     "slide_type": "fragment"
    }
   },
   "source": [
    "* To list"
   ]
  },
  {
   "cell_type": "code",
   "execution_count": 22,
   "metadata": {
    "scrolled": true,
    "slideshow": {
     "slide_type": "-"
    }
   },
   "outputs": [
    {
     "data": {
      "text/plain": [
       "(tuple, list)"
      ]
     },
     "execution_count": 22,
     "metadata": {},
     "output_type": "execute_result"
    }
   ],
   "source": [
    "a = (1, 2, 3)\n",
    "type(a), type(list(a))"
   ]
  },
  {
   "attachments": {},
   "cell_type": "markdown",
   "metadata": {
    "slideshow": {
     "slide_type": "fragment"
    }
   },
   "source": [
    "* To string"
   ]
  },
  {
   "cell_type": "code",
   "execution_count": 23,
   "metadata": {
    "slideshow": {
     "slide_type": "-"
    }
   },
   "outputs": [
    {
     "data": {
      "text/plain": [
       "(tuple, '(1, 2, 3)', str)"
      ]
     },
     "execution_count": 23,
     "metadata": {},
     "output_type": "execute_result"
    }
   ],
   "source": [
    "type(a), str(a), type(str(a))"
   ]
  },
  {
   "cell_type": "code",
   "execution_count": 32,
   "metadata": {
    "slideshow": {
     "slide_type": "fragment"
    }
   },
   "outputs": [
    {
     "data": {
      "text/plain": [
       "(False, True)"
      ]
     },
     "execution_count": 32,
     "metadata": {},
     "output_type": "execute_result"
    }
   ],
   "source": [
    "\"hello\" == \"world\", \"hello \".strip() == \"hello\""
   ]
  },
  {
   "cell_type": "code",
   "execution_count": null,
   "metadata": {
    "slideshow": {
     "slide_type": "fragment"
    }
   },
   "outputs": [
    {
     "data": {
      "text/plain": [
       "((3, 4, 5), tuple)"
      ]
     },
     "execution_count": 162,
     "metadata": {},
     "output_type": "execute_result"
    }
   ],
   "source": [
    "# Tuple Initialisierung\n",
    "\n",
    "tup = (3, 4, 5) # compared to lists: lst = [3, 4, 5]\n",
    "tup, type(tup)"
   ]
  },
  {
   "cell_type": "code",
   "execution_count": null,
   "metadata": {
    "slideshow": {
     "slide_type": "fragment"
    }
   },
   "outputs": [
    {
     "data": {
      "text/plain": [
       "(5, tuple)"
      ]
     },
     "execution_count": 1,
     "metadata": {},
     "output_type": "execute_result"
    }
   ],
   "source": [
    "# Casting eines Tupels zu einer Liste\n",
    "\n",
    "tup = tuple([3,4,5]) \n",
    "tup[-1], type(tup)"
   ]
  },
  {
   "attachments": {},
   "cell_type": "markdown",
   "metadata": {
    "slideshow": {
     "slide_type": "fragment"
    }
   },
   "source": [
    " * Tupel sind unveränderbare Listen"
   ]
  },
  {
   "cell_type": "code",
   "execution_count": null,
   "metadata": {
    "slideshow": {
     "slide_type": "fragment"
    }
   },
   "outputs": [
    {
     "name": "stdout",
     "output_type": "stream",
     "text": [
      "(3, 4, 42)\n"
     ]
    }
   ],
   "source": [
    "tup = list(tup) # Man muss das Tupel zur Liste umwandeln, um ein Element zu ändern\n",
    "tup[-1] = 42\n",
    "tup = tuple(tup)\n",
    "print(tup)"
   ]
  },
  {
   "attachments": {},
   "cell_type": "markdown",
   "metadata": {},
   "source": [
    "## $$\\textbf{If-Else-Verzweigung}$$\n",
    "<hr>"
   ]
  },
  {
   "attachments": {},
   "cell_type": "markdown",
   "metadata": {},
   "source": [
    "* \"Wenn das passiert, dann soll das eintreten...\" \n",
    "* Das If fordert eine Bedingung, die erfüllt werden muss, damit das, was danach kommt, ausgeführt werden soll"
   ]
  },
  {
   "attachments": {},
   "cell_type": "markdown",
   "metadata": {},
   "source": [
    "### $$\\textbf{Syntax}$$\n",
    "<hr>"
   ]
  },
  {
   "attachments": {},
   "cell_type": "markdown",
   "metadata": {},
   "source": [
    "* If-Else-Verzweigungen werden verwendet, um Entscheidungen in einem Programm zu treffen. Je nach Bedingung wird ein bestimmter Codeblock ausgeführt.\n",
    "* Die Bedingung ist eine Aussage, die entweder wahr (True) oder falsch (False) ist.\n",
    "* Wenn die Bedingung wahr ist, wird der Code im If-Block ausgeführt. Andernfalls wird der Code im Else-Block ausgeführt.\n",
    "* Die Syntax für eine If-Else-Verzweigung in Python ist wie folgt:\n",
    "\n",
    "    ```python\n",
    "    if Bedingung: \n",
    "        # Code, der ausgeführt wird, wenn die Bedingung wahr ist\n",
    "    elif:\n",
    "        # Code, der ausgeführt wird, wenn die Bedingung falsch ist und eine andere auftreten soll\n",
    "    else: \n",
    "    ``` "
   ]
  },
  {
   "attachments": {},
   "cell_type": "markdown",
   "metadata": {},
   "source": [
    "* Die Bedingung wird nach dem \"if\" angegeben und kann Vergleichsoperatoren wie \"==\", \"!=\", \"<\", \">\", \"<=\", \">=\" verwenden, um Werte zu vergleichen.\n",
    "* Der Code im If-Block und im Else-Block muss eingerückt sein, um ihn vom Rest des Codes abzugrenzen. Dies wird normalerweise mit vier Leerzeichen oder einem Tabulator gemacht.\n",
    "* Es kann auch nur eine If-Anweisung ohne Else-Teil verwendet werden, wenn nur eine Entscheidung getroffen werden muss.\n",
    "* Beispiel:"
   ]
  },
  {
   "cell_type": "code",
   "execution_count": null,
   "metadata": {},
   "outputs": [],
   "source": [
    "alter = 10\n",
    "\n",
    "if alter >= 12:\n",
    "    print(\"Du bist alt genug, um den Film zu sehen.\")\n",
    "else:\n",
    "    print(\"Du bist noch zu jung, um den Film zu sehen.\")\n"
   ]
  },
  {
   "attachments": {},
   "cell_type": "markdown",
   "metadata": {},
   "source": [
    "Aufgabe 42: Schreibe ein Programm, das das Alter von zwei Personen vergleicht und feststellt, ob sie gleich alt sind oder ob eine Person älter/jünger ist als die andere."
   ]
  },
  {
   "cell_type": "code",
   "execution_count": null,
   "metadata": {},
   "outputs": [],
   "source": [
    "alter_person1 = 12\n",
    "alter_person2 = 10\n",
    "\n",
    "if alter_person1 == alter_person2:\n",
    "    print(\"Beide Personen sind gleich alt.\")\n",
    "elif alter_person1 > alter_person2:\n",
    "    print(\"Person 1 ist älter als Person 2.\")\n",
    "else:\n",
    "    print(\"Person 1 ist jünger als Person 2.\")\n"
   ]
  },
  {
   "attachments": {},
   "cell_type": "markdown",
   "metadata": {},
   "source": [
    "Aufgabe 43: Schreibe ein Programm, das zwei verschiedene Früchte vergleicht und feststellt, ob sie denselben Namen haben oder ob sie unterschiedliche Namen haben."
   ]
  },
  {
   "cell_type": "code",
   "execution_count": null,
   "metadata": {},
   "outputs": [],
   "source": [
    "frucht1 = \"Apfel\"\n",
    "frucht2 = \"Birne\"\n",
    "\n",
    "if frucht1 == frucht2:\n",
    "    print(\"Beide Früchte haben denselben Namen.\")\n",
    "else:\n",
    "    print(\"Die Früchte haben unterschiedliche Namen.\")"
   ]
  },
  {
   "attachments": {},
   "cell_type": "markdown",
   "metadata": {},
   "source": [
    "Aufgabe 44: Schreibe ein Programm, das überprüft, ob ein Snack gesund ist. Ein Snack ist gesund, wenn er entweder ein Apfel oder eine Banane ist."
   ]
  },
  {
   "cell_type": "code",
   "execution_count": null,
   "metadata": {},
   "outputs": [],
   "source": [
    "snack = \"Apfel\"\n",
    "\n",
    "if snack == \"Apfel\" or snack == \"Banane\":\n",
    "    print(\"Der Snack ist gesund.\")\n",
    "else:\n",
    "    print(\"Der Snack ist nicht gesund.\")"
   ]
  },
  {
   "attachments": {},
   "cell_type": "markdown",
   "metadata": {},
   "source": [
    "Aufgabe 45: Schreibe ein Programm, das das Verhalten an einer umgekehrten Ampel überprüft. Wenn die Ampel rot ist, muss man warten. Wenn die Ampel grün ist, darf man gehen. Wenn die Ampel gelb ist, muss man ebenfalls warten."
   ]
  },
  {
   "cell_type": "code",
   "execution_count": null,
   "metadata": {},
   "outputs": [],
   "source": [
    "ampel_rot = True\n",
    "ampel_gelb = False\n",
    "\n",
    "if not ampel_rot and not ampel_gelb:\n",
    "    print(\"Du darfst gehen.\")\n",
    "else:\n",
    "    print(\"Du musst warten.\")"
   ]
  },
  {
   "attachments": {},
   "cell_type": "markdown",
   "metadata": {},
   "source": [
    "Aufgabe 46: Schreibe ein Programm, das überprüft, ob jemand ein Tierfreund ist. Eine Person ist ein Tierfreund, wenn sie entweder einen Hund hat oder gerne Katzen mag."
   ]
  },
  {
   "cell_type": "code",
   "execution_count": null,
   "metadata": {},
   "outputs": [],
   "source": [
    "hat_hund = False\n",
    "mag_katzen = True\n",
    "\n",
    "if hat_hund or mag_katzen:\n",
    "    print(\"Du bist ein Tierfreund.\")\n",
    "else:\n",
    "    print(\"Du bist kein Tierfreund.\")"
   ]
  },
  {
   "attachments": {},
   "cell_type": "markdown",
   "metadata": {},
   "source": [
    "Aufgabe 47: Schreibe ein Programm, das überprüft, ob alle Artikel auf einer Einkaufsliste vorhanden sind. Wenn alle Artikel vorhanden sind, gib \"Einkauf erledigt!\" aus. Wenn mindestens ein Artikel fehlt, gib \"Einkauf nicht vollständig!\" aus."
   ]
  },
  {
   "cell_type": "code",
   "execution_count": null,
   "metadata": {},
   "outputs": [],
   "source": [
    "einkaufsliste = [\"Apfel\", \"Banane\", \"Ei\", \"Milch\"]\n",
    "gekaufte_artikel = [\"Banane\", \"Ei\", \"Milch\"]\n",
    "\n",
    "if \"Apfel\" in gekaufte_artikel and \"Banane\" in gekaufte_artikel and \"Ei\" in gekaufte_artikel and \"Milch\" in gekaufte_artikel:\n",
    "    print(\"Einkauf erledigt!\")\n",
    "else:\n",
    "    print(\"Einkauf nicht vollständig!\")\n"
   ]
  },
  {
   "attachments": {},
   "cell_type": "markdown",
   "metadata": {},
   "source": [
    "Aufgabe 48: Schreibe ein Programm, das den aktuellen Wochentag überprüft. Wenn es Samstag oder Sonntag ist, gib \"Es ist Wochenende!\" aus. Ansonsten gib \"Es ist ein Wochentag.\" aus."
   ]
  },
  {
   "cell_type": "code",
   "execution_count": null,
   "metadata": {},
   "outputs": [],
   "source": [
    "import datetime\n",
    "\n",
    "aktuelles_datum = datetime.datetime.now()\n",
    "wochentag = aktuelles_datum.strftime(\"%A\")\n",
    "\n",
    "if wochentag == \"Samstag\" or wochentag == \"Sonntag\":\n",
    "    print(\"Es ist Wochenende!\")\n",
    "else:\n",
    "    print(\"Es ist ein Wochentag.\")\n"
   ]
  },
  {
   "attachments": {},
   "cell_type": "markdown",
   "metadata": {},
   "source": [
    "Aufgabe 49: Schreibe ein Programm, das ein Passwort überprüft. Das Passwort muss mindestens 8 Zeichen lang sein und sowohl Buchstaben als auch Zahlen enthalten. Gib \"Passwort akzeptiert!\" aus, wenn das Passwort den Anforderungen entspricht. Andernfalls gib \"Passwort ungültig!\" aus."
   ]
  },
  {
   "cell_type": "code",
   "execution_count": null,
   "metadata": {},
   "outputs": [],
   "source": [
    "passwort = input(\"Gib dein Passwort ein: \")\n",
    "\n",
    "if len(passwort) >= 8 and any(char.isdigit() for char in passwort) and any(char.isalpha() for char in passwort):\n",
    "    print(\"Passwort akzeptiert!\")\n",
    "else:\n",
    "    print(\"Passwort ungültig!\")\n"
   ]
  },
  {
   "attachments": {},
   "cell_type": "markdown",
   "metadata": {},
   "source": [
    "Aufgabe 50: Schreibe ein Programm, das das Alter einer Person überprüft und die entsprechende Altersgruppe ausgibt: \"Kind\" (0-12 Jahre), \"Teenager\" (13-19 Jahre) oder \"Erwachsener\" (ab 20 Jahren)."
   ]
  },
  {
   "cell_type": "code",
   "execution_count": null,
   "metadata": {},
   "outputs": [],
   "source": [
    "alter = int(input(\"Gib dein Alter ein: \"))\n",
    "\n",
    "if alter <= 12:\n",
    "    print(\"Du gehörst zur Altersgruppe 'Kind'.\")\n",
    "elif alter >= 13 and alter <= 19:\n",
    "    print(\"Du gehörst zur Altersgruppe 'Teenager'.\")\n",
    "else:\n",
    "    print(\"Du gehörst zur Altersgruppe 'Erwachsener'.\")"
   ]
  },
  {
   "attachments": {},
   "cell_type": "markdown",
   "metadata": {},
   "source": [
    "Aufgabe 51: Schreibe ein Programm, das überprüft, ob du eine bestimmte Freizeitaktivität ausüben kannst. Du kannst entweder schwimmen gehen oder Fahrrad fahren, aber nur wenn das Wetter gut ist."
   ]
  },
  {
   "cell_type": "code",
   "execution_count": null,
   "metadata": {},
   "outputs": [],
   "source": [
    "gutes_wetter = True\n",
    "schwimmen = True\n",
    "fahrrad_fahren = False\n",
    "\n",
    "if gutes_wetter and (schwimmen or fahrrad_fahren):\n",
    "    print(\"Du kannst eine Freizeitaktivität machen!\")\n",
    "else:\n",
    "    print(\"Du kannst keine Freizeitaktivität machen.\")"
   ]
  },
  {
   "attachments": {},
   "cell_type": "markdown",
   "metadata": {
    "slideshow": {
     "slide_type": "slide"
    }
   },
   "source": [
    "### $$\\textbf{Danke für eure Aufmerksamkeit!}$$\n",
    "<hr>  "
   ]
  }
 ],
 "metadata": {
  "celltoolbar": "Slideshow",
  "kernelspec": {
   "display_name": "Python 3 (ipykernel)",
   "language": "python",
   "name": "python3"
  },
  "language_info": {
   "codemirror_mode": {
    "name": "ipython",
    "version": 3
   },
   "file_extension": ".py",
   "mimetype": "text/x-python",
   "name": "python",
   "nbconvert_exporter": "python",
   "pygments_lexer": "ipython3",
   "version": "3.11.3"
  }
 },
 "nbformat": 4,
 "nbformat_minor": 1
}
