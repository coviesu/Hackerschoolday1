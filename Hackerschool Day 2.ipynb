{
 "cells": [
  {
   "attachments": {},
   "cell_type": "markdown",
   "metadata": {
    "slideshow": {
     "slide_type": "skip"
    }
   },
   "source": [
    "$\n",
    "\\newcommand{\\nc}{\\newcommand} \n",
    "\\nc{\\t}{\\text}\n",
    "\\nc{\\tb}{\\textbf}\n",
    "\\nc{\\ti}{\\textit}\n",
    "$"
   ]
  },
  {
   "attachments": {},
   "cell_type": "markdown",
   "metadata": {
    "slideshow": {
     "slide_type": "slide"
    }
   },
   "source": [
    "# $$\\textbf{Hackerschool } $$\n",
    "\n",
    "#### $$\\text{Tag 2}$$\n",
    "#### $$\\text{Claudia Oviesu und Leon Plumpe}$$\n"
   ]
  },
  {
   "attachments": {},
   "cell_type": "markdown",
   "metadata": {
    "slideshow": {
     "slide_type": "slide"
    }
   },
   "source": [
    "## $$\\textbf{Allgemeiner Kursüberblick}$$\n",
    "<hr>"
   ]
  },
  {
   "attachments": {},
   "cell_type": "markdown",
   "metadata": {},
   "source": [
    "* Wiederholung Tag 1\n",
    "    * Übungen "
   ]
  },
  {
   "attachments": {},
   "cell_type": "markdown",
   "metadata": {},
   "source": [
    "* Schleifen\n",
    "    * For-Schleifen\n",
    "    * While-Schleifen\n",
    "    * Break & continue\n",
    "    * List comprehension\n",
    "    "
   ]
  },
  {
   "attachments": {},
   "cell_type": "markdown",
   "metadata": {},
   "source": [
    " * Funktionen\n",
    "    * Wofür sind Funktionen sinnvoll?"
   ]
  },
  {
   "attachments": {},
   "cell_type": "markdown",
   "metadata": {
    "slideshow": {
     "slide_type": "fragment"
    }
   },
   "source": [
    "* Rekursion\n",
    "    * Grundprinzip\n",
    "    * Beispiele"
   ]
  },
  {
   "attachments": {},
   "cell_type": "markdown",
   "metadata": {
    "slideshow": {
     "slide_type": "slide"
    }
   },
   "source": [
    "## $$\\textbf{Wiederholung Tag 1}$$\n",
    "<hr>"
   ]
  },
  {
   "attachments": {},
   "cell_type": "markdown",
   "metadata": {
    "slideshow": {
     "slide_type": "fragment"
    }
   },
   "source": [
    "* Damit ihr das, was wir euch am Tag zuvor beigebracht haben, nicht so schnell vergesst, haben wir euch hier ein paar Aufgaben zusammengestellt\n",
    "<br>\n",
    "<br>\n"
   ]
  },
  {
   "attachments": {},
   "cell_type": "markdown",
   "metadata": {
    "slideshow": {
     "slide_type": "slide"
    }
   },
   "source": [
    "### $$\\textbf{Übungen}$$\n",
    "<hr>"
   ]
  },
  {
   "attachments": {},
   "cell_type": "markdown",
   "metadata": {},
   "source": [
    "Aufgabe 1: Schreibe ein Programm, das den Benutzer nach seinem Namen fragt und dann überprüft, ob der Name \"Max\" ist. Wenn ja, soll das Programm \"Hallo Max!\" ausgeben. Andernfalls soll es \"Du bist nicht Max!\" ausgeben."
   ]
  },
  {
   "cell_type": "code",
   "execution_count": null,
   "metadata": {},
   "outputs": [],
   "source": [
    "name = input(\"Wie lautet dein Name? \")\n",
    "\n",
    "if name == \"Max\":\n",
    "    print(\"Hallo Max!\")\n",
    "else:\n",
    "    print(\"Du bist nicht Max!\")"
   ]
  },
  {
   "attachments": {},
   "cell_type": "markdown",
   "metadata": {},
   "source": [
    "Aufgabe 2:\n",
    "Schreibe ein Programm, das den Benutzer nach seinem Alter fragt und dann überprüft, ob er/sie alt genug ist, um Achterbahn zu fahren. Das Mindestalter beträgt 12 Jahre. Wenn das Alter ausreicht, soll das Programm \"Du darfst Achterbahn fahren!\" ausgeben. Andernfalls soll es \"Du bist noch zu jung für die Achterbahn!\" ausgeben."
   ]
  },
  {
   "cell_type": "code",
   "execution_count": null,
   "metadata": {},
   "outputs": [],
   "source": [
    "alter = int(input(\"Wie alt bist du? \"))\n",
    "\n",
    "if alter >= 12:\n",
    "    print(\"Du darfst Achterbahn fahren!\")\n",
    "else:\n",
    "    print(\"Du bist noch zu jung für die Achterbahn!\")\n"
   ]
  },
  {
   "attachments": {},
   "cell_type": "markdown",
   "metadata": {},
   "source": [
    "Aufgabe 3:\n",
    "Schreibe ein Programm, das den Benutzer nach einer Zahl fragt und überprüft, ob die Zahl gerade oder ungerade ist. Wenn die Zahl gerade ist, soll das Programm \"Die Zahl ist gerade!\" ausgeben. Andernfalls soll es \"Die Zahl ist ungerade!\" ausgeben."
   ]
  },
  {
   "cell_type": "code",
   "execution_count": null,
   "metadata": {},
   "outputs": [],
   "source": [
    "zahl = int(input(\"Gib eine Zahl ein: \"))\n",
    "\n",
    "if zahl % 2 == 0:\n",
    "    print(\"Die Zahl ist gerade!\")\n",
    "else:\n",
    "    print(\"Die Zahl ist ungerade!\")\n"
   ]
  },
  {
   "attachments": {},
   "cell_type": "markdown",
   "metadata": {},
   "source": [
    "Aufgabe 4:\n",
    "Schreibe ein Programm, das den Benutzer nach einer Punktzahl in einem Spiel fragt und dann überprüft, ob er/sie den Highscore erreicht hat. Der Highscore beträgt 100 Punkte. Wenn die Punktzahl den Highscore erreicht oder übertrifft, soll das Programm \"Glückwunsch! Du hast den Highscore erreicht!\" ausgeben. Andernfalls soll es \"Leider hast du den Highscore nicht erreicht. Versuche es erneut!\" ausgeben."
   ]
  },
  {
   "cell_type": "code",
   "execution_count": null,
   "metadata": {},
   "outputs": [],
   "source": [
    "punktzahl = int(input(\"Gib deine Punktzahl ein: \"))\n",
    "\n",
    "highscore = 100\n",
    "\n",
    "if punktzahl >= highscore:\n",
    "    print(\"Glückwunsch! Du hast den Highscore erreicht!\")\n",
    "else:\n",
    "    print(\"Leider hast du den Highscore nicht erreicht. Versuche es erneut!\")\n"
   ]
  },
  {
   "attachments": {},
   "cell_type": "markdown",
   "metadata": {},
   "source": [
    "Aufgabe 5:\n",
    "Schreibe ein Programm, das den Benutzer nach einer geheimen Zahl zwischen 1 und 10 fragt und dann überprüft, ob die eingegebene Zahl mit der geheimen Zahl übereinstimmt. Wenn die Zahl richtig geraten wurde, soll das Programm \"Glückwunsch! Du hast die geheime Zahl gefunden!\" ausgeben. Andernfalls soll es \"Leider hast du die geheime Zahl nicht gefunden. Versuche es erneut!\" ausgeben."
   ]
  },
  {
   "cell_type": "code",
   "execution_count": 1,
   "metadata": {},
   "outputs": [
    {
     "name": "stdout",
     "output_type": "stream",
     "text": [
      "Leider hast du die geheime Zahl nicht gefunden. Versuche es erneut!\n"
     ]
    }
   ],
   "source": [
    "geheime_zahl = 7  # Hier kannst du eine andere geheime Zahl festlegen\n",
    "\n",
    "zahl = int(input(\"Rate eine Zahl zwischen 1 und 10: \"))\n",
    "\n",
    "if zahl == geheime_zahl:\n",
    "    print(\"Glückwunsch! Du hast die geheime Zahl gefunden!\")\n",
    "else:\n",
    "    print(\"Leider hast du die geheime Zahl nicht gefunden. Versuche es erneut!\")\n"
   ]
  },
  {
   "attachments": {},
   "cell_type": "markdown",
   "metadata": {},
   "source": [
    "Aufgabe 6: \n",
    "Schreibe ein Programm, indem du die Maße des Quaders eingeben kannst. Das Programm soll in der Lage dein das Volumen, die Oberfläche und die Diagonale zu berechnen. Außerdem soll das Programm dich darauf hinweisen eine positive Zahl einzugeben, sobald du eine negative Zahl (-1,-2,-3...) eingibst."
   ]
  },
  {
   "cell_type": "code",
   "execution_count": 3,
   "metadata": {},
   "outputs": [
    {
     "name": "stdout",
     "output_type": "stream",
     "text": [
      "Gebe die die Maße des Quaders an!\n",
      "a muss positiv sein!\n"
     ]
    }
   ],
   "source": [
    "\n",
    "print (\"Gebe die die Maße des Quaders an!\")\n",
    "a = int(input(\"a: \"))\n",
    "b = int(input(\"b: \"))\n",
    "c = int(input(\"c: \"))\n",
    "if a<0:\n",
    "   print(\"a muss positiv sein!\" )\n",
    "elif b<0:\n",
    "    print(\"b muss positiv sein!\")\n",
    "elif c<0:\n",
    "    print(\"c muss positiv sein!\")\n",
    "else:\n",
    "        volumen = a * b * c\n",
    "        oberflaeche = 2*a*b + 2*a*c + 2*b*c\n",
    "        print(\"Volumen: \"+ str(volumen))\n",
    "        print(\"Oberfläche: \" + str(oberflaeche))\n",
    "        diagonale = (a*a + b*b + c*c)**(0.5)\n",
    "        print(\"Raumdiagonale: \" + str(diagonale))"
   ]
  },
  {
   "attachments": {},
   "cell_type": "markdown",
   "metadata": {},
   "source": [
    "## $$\\textbf{Schleifen}$$\n",
    "<hr>"
   ]
  },
  {
   "attachments": {},
   "cell_type": "markdown",
   "metadata": {},
   "source": [
    "* Schleifen wiederholen Code: Schleifen ermöglichen es uns, Code mehrmals auszuführen, anstatt ihn immer wieder manuell zu wiederholen\n",
    "* In Python gibt es zwei Arten von Schleifen: \n",
    "    * for-Schleifen\n",
    "    * while-Schleifen\n"
   ]
  },
  {
   "attachments": {},
   "cell_type": "markdown",
   "metadata": {},
   "source": [
    "### $$\\textbf{for-Schleifen}$$\n",
    "<hr>"
   ]
  },
  {
   "attachments": {},
   "cell_type": "markdown",
   "metadata": {},
   "source": [
    "* Die for-Schleife wird verwendet, um eine bestimmte Anzahl von Elementen zu durchlaufen, z. B. eine Liste oder einen Bereich von Zahlen.\n",
    "* Syntax: **for element in sequence:**\n",
    " "
   ]
  },
  {
   "cell_type": "code",
   "execution_count": 2,
   "metadata": {},
   "outputs": [
    {
     "name": "stdout",
     "output_type": "stream",
     "text": [
      "1\n",
      "2\n",
      "3\n",
      "4\n",
      "5\n"
     ]
    }
   ],
   "source": [
    "#Beispiel:\n",
    "\n",
    "for zahl in range(1, 6):\n",
    "    print(zahl)\n",
    "# Ausgabe: 1, 2, 3, 4, 5\n"
   ]
  },
  {
   "attachments": {},
   "cell_type": "markdown",
   "metadata": {},
   "source": [
    "Aufgabe: Printe alle Obstsorten aus dem folgenden Obskorb.\n",
    "\n",
    "```python \n",
    "Obstkorb = [\"Äpfel\", \"Bananen\", \"Kirschen\", \"Trauben\", \"Mandarinen\"]\n",
    "```"
   ]
  },
  {
   "cell_type": "code",
   "execution_count": 6,
   "metadata": {},
   "outputs": [
    {
     "name": "stdout",
     "output_type": "stream",
     "text": [
      "Äpfel\n",
      "Bananen\n",
      "Kirschen\n",
      "Trauben\n",
      "Mandarinen\n"
     ]
    }
   ],
   "source": [
    "Obstkorb = [\"Äpfel\", \"Bananen\", \"Kirschen\", \"Trauben\", \"Mandarinen\"]\n",
    "for x in Obstkorb:\n",
    "    print(x)"
   ]
  },
  {
   "attachments": {},
   "cell_type": "markdown",
   "metadata": {},
   "source": [
    "* Du kannst auch einen einzelnen String durchlaufen"
   ]
  },
  {
   "cell_type": "code",
   "execution_count": 7,
   "metadata": {},
   "outputs": [
    {
     "name": "stdout",
     "output_type": "stream",
     "text": [
      "b\n",
      "a\n",
      "n\n",
      "a\n",
      "n\n",
      "a\n"
     ]
    }
   ],
   "source": [
    "for x in \"banana\":\n",
    "  print(x)"
   ]
  },
  {
   "attachments": {},
   "cell_type": "markdown",
   "metadata": {},
   "source": [
    "Aufgabe: Gebe das Wort \"Hackerschool\" in jeweils einzelne Buchstaben aus. "
   ]
  },
  {
   "cell_type": "code",
   "execution_count": 4,
   "metadata": {},
   "outputs": [
    {
     "name": "stdout",
     "output_type": "stream",
     "text": [
      "H\n",
      "a\n",
      "c\n",
      "k\n",
      "e\n",
      "r\n",
      "s\n",
      "c\n",
      "h\n",
      "o\n",
      "o\n",
      "l\n"
     ]
    }
   ],
   "source": [
    "for x in \"Hackerschool\":\n",
    "    print(x)"
   ]
  },
  {
   "attachments": {},
   "cell_type": "markdown",
   "metadata": {},
   "source": [
    "Aufgabe: Schreibe eine for-Schleife, die alle geraden Zahlen von 1 bis 10 ausgibt."
   ]
  },
  {
   "cell_type": "code",
   "execution_count": null,
   "metadata": {},
   "outputs": [],
   "source": [
    "# Lösung für Aufgabe 1\n",
    "for zahl in range(2, 11, 2):\n",
    "    print(zahl)\n"
   ]
  },
  {
   "attachments": {},
   "cell_type": "markdown",
   "metadata": {},
   "source": [
    "Aufgabe: Schreibe eine for-Schleife, die einen Buchstaben mehrmals wiederholt und ausgibt."
   ]
  },
  {
   "cell_type": "code",
   "execution_count": null,
   "metadata": {},
   "outputs": [],
   "source": [
    "# Lösung für Aufgabe 4\n",
    "zeichen = \"*\"\n",
    "\n",
    "for i in range(5):\n",
    "    print(zeichen * (i + 1))\n"
   ]
  },
  {
   "attachments": {},
   "cell_type": "markdown",
   "metadata": {},
   "source": [
    "Aufgabe 5: Schreibe eine for-Schleife, die die Anzahl der Vokale in einem Wort zählt."
   ]
  },
  {
   "cell_type": "code",
   "execution_count": null,
   "metadata": {},
   "outputs": [],
   "source": [
    "# Lösung für Aufgabe 5\n",
    "wort = \"Apfel\"\n",
    "vokale = \"AEIOUaeiou\"\n",
    "anzahl_vokale = 0\n",
    "\n",
    "for buchstabe in wort:\n",
    "    if buchstabe in vokale:\n",
    "        anzahl_vokale += 1\n",
    "\n",
    "print(\"Anzahl Vokale:\", anzahl_vokale)\n"
   ]
  },
  {
   "attachments": {},
   "cell_type": "markdown",
   "metadata": {},
   "source": [
    "### $$\\textbf{while-Schleifen}$$\n",
    "<hr>"
   ]
  },
  {
   "attachments": {},
   "cell_type": "markdown",
   "metadata": {},
   "source": [
    "* Die while-Schleife wird verwendet, um Code so lange zu wiederholen, wie eine bestimmte Bedingung erfüllt ist.\n",
    "* Syntax:\n",
    "  **while bedingung**"
   ]
  },
  {
   "cell_type": "code",
   "execution_count": null,
   "metadata": {},
   "outputs": [],
   "source": [
    "#Beispiel:\n",
    "\n",
    "zahl = 1\n",
    "while zahl <= 5:\n",
    "    print(zahl)\n",
    "    zahl += 1\n",
    "# Ausgabe: 1, 2, 3, 4, 5\n"
   ]
  },
  {
   "attachments": {},
   "cell_type": "markdown",
   "metadata": {},
   "source": [
    "Aufgabe 6:\n",
    "Schreibe eine while-Schleife, die die Quersumme einer gegebenen Zahl berechnet und ausgibt."
   ]
  },
  {
   "cell_type": "code",
   "execution_count": null,
   "metadata": {},
   "outputs": [],
   "source": [
    "# Lösung für Aufgabe 6\n",
    "zahl = int(input(\"Gib eine Zahl ein: \"))\n",
    "quersumme = 0\n",
    "\n",
    "while zahl > 0:\n",
    "    quersumme += zahl % 10\n",
    "    zahl //= 10\n",
    "\n",
    "print(\"Die Quersumme ist:\", quersumme)\n"
   ]
  },
  {
   "attachments": {},
   "cell_type": "markdown",
   "metadata": {},
   "source": [
    "Aufgabe 7:\n",
    "Schreibe eine while-Schleife, die den Benutzer nach einem Passwort fragt und ihm so lange eine Nachricht ausgibt, bis er das richtige Passwort eingibt."
   ]
  },
  {
   "cell_type": "code",
   "execution_count": null,
   "metadata": {},
   "outputs": [],
   "source": [
    "# Lösung für Aufgabe 7\n",
    "passwort = \"geheim\"\n",
    "eingabe = \"\"\n",
    "\n",
    "while eingabe != passwort:\n",
    "    eingabe = input(\"Gib das Passwort ein: \")\n",
    "\n",
    "print(\"Herzlichen Glückwunsch! Du hast das Passwort richtig eingegeben.\")\n"
   ]
  },
  {
   "attachments": {},
   "cell_type": "markdown",
   "metadata": {},
   "source": [
    "Aufgabe 10:\n",
    "Schreibe eine while-Schleife, die einen Countdown von 5 bis 1 ausgibt."
   ]
  },
  {
   "cell_type": "code",
   "execution_count": null,
   "metadata": {},
   "outputs": [],
   "source": [
    "# Lösung für Aufgabe 10\n",
    "zahl = 5\n",
    "\n",
    "while zahl > 0:\n",
    "    print(zahl)\n",
    "    zahl -= 1\n",
    "\n",
    "print(\"Start!\")\n"
   ]
  },
  {
   "attachments": {},
   "cell_type": "markdown",
   "metadata": {},
   "source": [
    "### $$\\textbf{break und continue}$$\n",
    "<hr>"
   ]
  },
  {
   "attachments": {},
   "cell_type": "markdown",
   "metadata": {},
   "source": [
    "* \"Break\" kann verwendet werden, um eine Schleife vorzeitig zu beenden\n",
    "* \"Continue\" wird genutzt, um den restlichen Code in einem Schleifendurchlauf zu überspringen und mit dem nächsten Durchlauf fortzufahren"
   ]
  },
  {
   "attachments": {},
   "cell_type": "markdown",
   "metadata": {},
   "source": [
    " * Beispiel für \"Break\""
   ]
  },
  {
   "cell_type": "code",
   "execution_count": null,
   "metadata": {},
   "outputs": [],
   "source": [
    "for zahl in range(1, 6):\n",
    "    if zahl == 3:\n",
    "        break\n",
    "    print(zahl)\n",
    "# Ausgabe: 1, 2\n"
   ]
  },
  {
   "attachments": {},
   "cell_type": "markdown",
   "metadata": {},
   "source": [
    "* Beispiel für \"Continue\""
   ]
  },
  {
   "cell_type": "code",
   "execution_count": null,
   "metadata": {},
   "outputs": [],
   "source": [
    "for zahl in range(1, 6):\n",
    "    if zahl == 3:\n",
    "        continue\n",
    "    print(zahl)\n",
    "# Ausgabe: 1, 2, 4, 5\n"
   ]
  },
  {
   "attachments": {},
   "cell_type": "markdown",
   "metadata": {},
   "source": [
    "Aufgabe 6:\n",
    "Schreibe ein Programm, das den Benutzer Zahlen eingeben lässt. Die Eingabe wird solange wiederholt, bis der Benutzer \"fertig\" eingibt. Das Programm soll dann die Summe aller eingegebenen geraden Zahlen ausgeben."
   ]
  },
  {
   "cell_type": "code",
   "execution_count": null,
   "metadata": {},
   "outputs": [],
   "source": [
    "# Lösung für Aufgabe 6\n",
    "summe = 0\n",
    "\n",
    "while True:\n",
    "    eingabe = input(\"Gib eine Zahl ein (oder 'fertig' zum Beenden): \")\n",
    "\n",
    "    if eingabe == \"fertig\":\n",
    "        break\n",
    "\n",
    "    zahl = int(eingabe)\n",
    "\n",
    "    if zahl % 2 == 0:\n",
    "        summe += zahl\n",
    "\n",
    "print(\"Die Summe der geraden Zahlen ist:\", summe)\n"
   ]
  },
  {
   "attachments": {},
   "cell_type": "markdown",
   "metadata": {
    "slideshow": {
     "slide_type": "slide"
    }
   },
   "source": [
    "### $$\\textbf{List comprehension}$$\n",
    "<hr>"
   ]
  },
  {
   "attachments": {},
   "cell_type": "markdown",
   "metadata": {
    "slideshow": {
     "slide_type": "fragment"
    }
   },
   "source": [
    "* List Comprehension ist eine Möglichkeit, um Listen auf eine kompakte Weise zu erstellen oder zu transformieren\n",
    "    * Es ermöglicht uns, in einer einzigen Zeile Code komplexe Schleifen und Bedingungen zu kombinieren, um Listen zu erzeugen.\n",
    "* Die Syntax von List Comprehension sieht folgendermaßen aus: \n",
    "    ``` \n",
    "    ausdruck for element in sequence if bedingung\n",
    "    ``` \n",
    "* Der **ausdruck** ist der Wert oder die Berechnung, die in die neue Liste aufgenommen werden soll.\n",
    "* Das **element** steht für jedes Element in der \"sequence\", über die wir iterieren möchten.\n",
    "* Die **bedingung** ist optional und ermöglicht es uns, nur bestimmte Elemente basierend auf einer Bedingung in die neue Liste aufzunehmen.\n"
   ]
  },
  {
   "attachments": {},
   "cell_type": "markdown",
   "metadata": {},
   "source": [
    "* Das Gleichheitszeichen ist **kein mathematisches Gleichheitszeichen**, sondern Der Variablen \"zahl\" wird der Wert 42 zugewiesen"
   ]
  },
  {
   "attachments": {},
   "cell_type": "markdown",
   "metadata": {},
   "source": [
    "Aufgabe: \n",
    "Erstelle eine Liste, die die Quadratzahlen von 1 bis 10 enthält, indem du List Comprehension verwendest."
   ]
  },
  {
   "cell_type": "code",
   "execution_count": null,
   "metadata": {},
   "outputs": [],
   "source": [
    "# Lösung für Aufgabe 1\n",
    "quadratzahlen = [zahl ** 2 for zahl in range(1, 11)]\n",
    "print(quadratzahlen)\n"
   ]
  },
  {
   "attachments": {},
   "cell_type": "markdown",
   "metadata": {},
   "source": [
    "Aufgabe 2:\n",
    "Erstelle eine Liste der geraden Zahlen von 1 bis 20, indem du List Comprehension verwendest."
   ]
  },
  {
   "cell_type": "code",
   "execution_count": null,
   "metadata": {},
   "outputs": [],
   "source": [
    "# Lösung für Aufgabe 2\n",
    "gerade_zahlen = [zahl for zahl in range(1, 21) if zahl % 2 == 0]\n",
    "print(gerade_zahlen)\n"
   ]
  },
  {
   "attachments": {},
   "cell_type": "markdown",
   "metadata": {},
   "source": [
    "Aufgabe 5:\n",
    "Erstelle eine neue Liste, in der alle Vorkommen eines bestimmten Elements in einer gegebenen Liste geändert werden."
   ]
  },
  {
   "cell_type": "code",
   "execution_count": null,
   "metadata": {},
   "outputs": [],
   "source": [
    "# Lösung für Aufgabe 5\n",
    "farben = [\"Rot\", \"Blau\", \"Gelb\", \"Blau\", \"Grün\", \"Blau\"]\n",
    "neue_farben = [\"Pink\" if farbe == \"Blau\" else farbe for farbe in farben]\n",
    "print(neue_farben)\n"
   ]
  },
  {
   "attachments": {},
   "cell_type": "markdown",
   "metadata": {},
   "source": [
    "## $$\\textbf{Funktionen}$$\n",
    "<hr>"
   ]
  },
  {
   "attachments": {},
   "cell_type": "markdown",
   "metadata": {},
   "source": [
    "* Funktionen sind wie spezielle Werkzeuge, die uns helfen, bestimmte    Aufgaben zu erledigen\n",
    "* Funktionen nehmen Eingaben entgegen, führen Aktionen aus und geben Ergebnisse zurück\n",
    "* Wir können Funktionen selbst erstellen, indem wir unseren eigenen Code schreiben\n",
    "* Eine Funktion hat normalerweise einen Namen, der beschreibt, was sie tut\n",
    "* Die Syntax zum Definieren einer Funktion ist:\n",
    "```python\n",
    "def funktion_name(parameter):\n",
    "    # Hier kommt der Code, der ausgeführt wird\n",
    "    return ergebnis \n",
    "```"
   ]
  },
  {
   "attachments": {},
   "cell_type": "markdown",
   "metadata": {},
   "source": [
    "* Der \"funktionsname\" ist der Name der Funktion\n",
    "    * Es sollte einen Namen haben, der beschreibt, was die Funktion tut\n",
    "* Der \"parameter\" ist eine Variable, die der Funktion übergeben wird und von der Funktion verwendet wird, um ihre Aufgabe auszuführen.\n",
    "* Der \"Code\" innerhalb der Funktion sind die Anweisungen oder Aktionen, die ausgeführt werden, um das gewünschte Ergebnis zu erzielen\n",
    "* Das \"Ergebnis\" ist der Wert oder das Resultat, das von der Funktion zurückgegeben wird, wenn sie ihre Aufgabe abgeschlossen hat"
   ]
  },
  {
   "attachments": {},
   "cell_type": "markdown",
   "metadata": {},
   "source": [
    "Beispiel 1: Eine Funktion, die zwei Zahlen addiert und das Ergebnis zurückgibt.\n",
    "\n",
    "```python\n",
    "def addiere(zahl1, zahl2):\n",
    "    ergebnis = zahl1 + zahl2\n",
    "    return ergebnis\n",
    "\n",
    "summe = addiere(3, 5)\n",
    "# summe enthält den Wert 8\n",
    "```"
   ]
  },
  {
   "attachments": {},
   "cell_type": "markdown",
   "metadata": {},
   "source": [
    "Beispiel 2: Eine Funktion, die überprüft, ob eine Zahl gerade ist oder nicht und das Ergebnis zurückgibt.\n",
    "```python \n",
    "def ist_gerade(zahl):\n",
    "    if zahl % 2 == 0:\n",
    "        return True\n",
    "    else:\n",
    "        return False\n",
    "\n",
    "ergebnis = ist_gerade(7)\n",
    "# ergebnis enthält den Wert False, da 7 ungerade ist\n",
    "```"
   ]
  },
  {
   "attachments": {},
   "cell_type": "markdown",
   "metadata": {},
   "source": [
    "Aufgabe 5:\n",
    "Schreibe eine Funktion groesstes_element(liste), die eine Liste von Zahlen als Argument erhält und das größte Element in der Liste zurückgibt."
   ]
  },
  {
   "cell_type": "code",
   "execution_count": null,
   "metadata": {},
   "outputs": [],
   "source": [
    "# Lösung für Aufgabe 5\n",
    "def groesstes_element(liste):\n",
    "    return max(liste)\n",
    "\n",
    "# Funktion aufrufen\n",
    "zahlen = [4, 8, 2, 10, 5]\n",
    "groesste_zahl = groesstes_element(zahlen)\n",
    "print(\"Das größte Element ist:\", groesste_zahl)\n"
   ]
  },
  {
   "attachments": {},
   "cell_type": "markdown",
   "metadata": {},
   "source": [
    "### $$\\textbf{Wofür sind Funktionen sinnvoll?}$$\n",
    "<hr>"
   ]
  },
  {
   "attachments": {},
   "cell_type": "markdown",
   "metadata": {},
   "source": [
    "* Funktionen sind nützlich, um Code zu organisieren, wiederzuverwenden und Aufgaben in kleinere Teile aufzuteilen\n",
    "* Wenn wir eine Funktion erstellt haben, können wir sie immer wieder aufrufen, indem wir ihren Namen verwenden und die erforderlichen Eingaben übergeben\n",
    "* Es gibt auch vordefinierte Funktionen in Python, wie zum Beispiel print(), die bereits vorhanden sind und uns bei bestimmten Aufgaben helfen"
   ]
  },
  {
   "attachments": {},
   "cell_type": "markdown",
   "metadata": {
    "slideshow": {
     "slide_type": "slide"
    }
   },
   "source": [
    "### $$\\textbf{Rekursion}$$\n",
    "<hr>  "
   ]
  },
  {
   "attachments": {},
   "cell_type": "markdown",
   "metadata": {},
   "source": [
    "* Rekursion ist eine Technik, bei der eine Funktion sich selbst aufruft, um eine bestimmte Aufgabe zu erledigen\n",
    "* Es ist wie ein Puzzlespiel, bei dem wir ein Teil des Puzzles lösen und dann den Rest des Puzzles mit derselben Methode lösen\n",
    "* Rekursion erfordert eine Basisbedingung, die angibt, wann die Funktion aufhört, sich selbst aufzurufen\n",
    "    * Die Basisbedingung ist wichtig, damit die Funktion nicht unendlich oft aufgerufen wird"
   ]
  },
  {
   "attachments": {},
   "cell_type": "markdown",
   "metadata": {},
   "source": [
    "* Rekursion erfordert ein gutes Verständnis der Basisbedingung und des rekursiven Aufrufs, um endlose Schleifen zu vermeiden\n",
    "* Rekursion kann verwendet werden, um komplexe Probleme in kleinere, leichter lösbare Teile aufzuteilen\n",
    "* Es ist wichtig, die Rekursion zu verstehen, da sie in vielen Bereichen der Informatik, wie z.B. Algorithmen und Datenstrukturen, eine wichtige Rolle spielt"
   ]
  },
  {
   "attachments": {},
   "cell_type": "markdown",
   "metadata": {},
   "source": [
    "Beispiel: \n",
    "* Die Fibonacci-Folge ist eine Sequenz von Zahlen, bei der jede Zahl die Summe der beiden vorherigen Zahlen ist \n",
    "* Um die Fibonacci-Folge mit Rekursion zu berechnen, verwenden wir die Eigenschaft, dass die n-te Fibonacci-Zahl die Summe der (n-1)-ten und (n-2)-ten Fibonacci-Zahl ist\n",
    "* Die Basisbedingung ist, dass die ersten beiden Fibonacci-Zahlen 0 und 1 sind.\n",
    "* Hier ist der Python-Code, der die Fibonacci-Folge mit Rekursion berechnet:\n",
    "```python\n",
    "def fibonacci(n):\n",
    "    if n == 0: #Basisfall\n",
    "        return 0\n",
    "    elif n == 1:\n",
    "        return 1\n",
    "    else:\n",
    "        return fibonacci(n - 1) + fibonacci(n - 2)\n",
    "\n",
    "# Die ersten 10 Fibonacci-Zahlen berechnen und ausgeben\n",
    "for i in range(10):\n",
    "    zahl = fibonacci(i)\n",
    "    print(zahl)\n",
    "```"
   ]
  },
  {
   "attachments": {},
   "cell_type": "markdown",
   "metadata": {},
   "source": [
    "Aufgabe: Schreibe eine Funktion, die die Fakultät einer Zahl berechnet. Einmal iterativ und einmal rekursiv.\n",
    "\n",
    "Beispiel:\n",
    "\n",
    "$0! = 1$\n",
    "\n",
    "$1! = 1$\n",
    "\n",
    "$2! = 2 \\cdot 1! = 2$\n",
    "\n",
    "$3! = 3 \\cdot 2! = 3 \\cdot 2 \\cdot 1! = 6$\n",
    "\n",
    "$4! = 4 \\cdot 3! = 4 \\cdot 3 \\cdot 2! = 4 \\cdot 3 \\cdot 2 \\cdot 1! = 24$\n",
    "\n",
    "Tipp:\n",
    "\n",
    "$n! = n \\cdot (n-1)! = n \\cdot (n-1) \\cdot (n-2)! = n \\cdot (n-1) \\cdot ... \\cdot 1$\n",
    "\n",
    "..."
   ]
  },
  {
   "cell_type": "code",
   "execution_count": null,
   "metadata": {},
   "outputs": [],
   "source": [
    "def fak_rec(n):\n",
    "    if n == 0:\n",
    "        return 1\n",
    "    else:\n",
    "        return n * fak_rec(n-1)\n",
    "    \n",
    "def fak_iter(n):\n",
    "    fak = 1\n",
    "    for i in range(1, n+1):\n",
    "        fak *= i\n",
    "    return fak"
   ]
  },
  {
   "attachments": {},
   "cell_type": "markdown",
   "metadata": {},
   "source": [
    "Aufgabe: Berechne die Summe aller Zahlen von 1 bis 100 einmal rekursiv und einmal iterativ (mit einer Schleife). Schreibe dafür zewi Funktionen. Gibt es vielleicht eine noch einfachere Möglichkeit?"
   ]
  },
  {
   "cell_type": "code",
   "execution_count": null,
   "metadata": {},
   "outputs": [],
   "source": [
    "# Rekursiv\n",
    "def gauss_sum_rec(n):\n",
    "    if n == 0:\n",
    "        return 0\n",
    "    return n+ gauss_sum_rec(n-1)\n",
    "\n",
    "# Iterativ\n",
    "def gauss_sum_it(n):\n",
    "    summe = 0\n",
    "    for i in range(n+1):\n",
    "        summe += i\n",
    "    return\n",
    "\n",
    "# Formel:\n",
    "def gauss_sum_formel(n):\n",
    "    return n*(n+1)/2"
   ]
  },
  {
   "attachments": {},
   "cell_type": "markdown",
   "metadata": {},
   "source": [
    "Eine Möglichkeit, den grössten gemeinsamen Teiler (ggT) zweier natürlicher Zahlen a\n",
    "und b zu berechnen, ist die folgende:\n",
    "* Falls a > b ist, subtrahiere b von a und berechne ggT (a–b, b) anstelle von ggT(a, b).\n",
    "* Falls b > a ist, subtrahiere a von b und berechne ggT (a, b–a) anstelle von ggT(a, b).\n",
    "* Falls a = b ist, gilt ggT (a, b) = a = b und man ist fertig.\n",
    "1. Überlege dir, warum dieser Algorithmus korrekt ist.\n",
    "2. Du hast sicher bemerkt, dass auch dieser Algorithmus rekursiv ist. Welches ist die\n",
    "Rekursionsbasis, welches die Rekursionsvorschrift?\n",
    "3. Schreibe ein rekursives Programm in Pseudocode und anschliessend in deiner\n",
    "Programmiersprache. Teste dein Programm an einigen (auch speziellen) Beispielen."
   ]
  },
  {
   "cell_type": "code",
   "execution_count": null,
   "metadata": {},
   "outputs": [],
   "source": [
    "# Rekursiv\n",
    "def ggt_rec(a, b):\n",
    "    if b == 0:\n",
    "        return a\n",
    "    else:\n",
    "        return ggt_rec(b, a%b)\n",
    "    \n",
    "# Iterativ\n",
    "def ggt_iter(a, b):\n",
    "    ggt = 1\n",
    "    for i in range(1, min(a,b)+1):\n",
    "        if a%i == 0 and b%i == 0:\n",
    "            ggt = i\n",
    "            \n",
    "    return ggt"
   ]
  },
  {
   "attachments": {},
   "cell_type": "markdown",
   "metadata": {},
   "source": [
    "Aufgabe: Die Umkehrung einer Zeichenkette ist eine neue Zeichenkette, in der die Buchstaben der ursprünglichen Zeichenkette in umgekehrter Reihenfolge stehen. Die Umkehrung der Zeichenkette \"Hallo\" ist zum Beispiel \"olleH\". Schreibe eine rekursive Funktion, die einen beliebigen String umdrehen kann."
   ]
  },
  {
   "cell_type": "code",
   "execution_count": null,
   "metadata": {},
   "outputs": [],
   "source": [
    "def reverse_string(s):\n",
    "  if len(s) == 0:\n",
    "    return \"\"\n",
    "  else:\n",
    "    return reverse_string(s[1:]) + s[0]\n",
    "\n",
    "print(reverse_string(\"Hallo\"))\n"
   ]
  },
  {
   "attachments": {},
   "cell_type": "markdown",
   "metadata": {},
   "source": [
    "Die Primfaktorzerlegung ist ein Verfahren, bei dem eine natürliche Zahl in ihre Primfaktoren zerlegt wird. Primzahlen sind natürliche Zahlen größer als 1, die nur durch 1 und sich selbst teilbar sind.\n",
    "\n",
    "Um eine Zahl in ihre Primfaktoren zu zerlegen, kann man folgende Schritte verwenden:\n",
    "\n",
    "1. Beginne mit der kleinsten Primzahl, 2.\n",
    "2. Teilt die Zahl durch 2, solange die Zahl durch 2 teilbar ist.\n",
    "3. Wenn die Zahl nicht mehr durch 2 teilbar ist, gehe zur nächsten Primzahl über (3).\n",
    "4. Wiederhole Schritte 2 und 3, bis die Zahl nicht mehr durch eine Primzahl teilbar ist.\n",
    "\n",
    "Die erhaltenen Primzahlen sind die Primfaktoren der Zahl.\n",
    "\n",
    "Zum Beispiel:\n",
    "\n",
    "Die Zahl 12 kann wie folgt in ihre Primfaktoren zerlegt werden:\n",
    "\n",
    "12 = 2 * 2 * 3\n",
    "\n",
    "Die Primfaktoren von 12 sind 2 und 3.\n",
    "\n",
    "Schreibe eine Python-Funktion, die die Primzahlzerlegung einer Zahl berechnet."
   ]
  },
  {
   "cell_type": "code",
   "execution_count": null,
   "metadata": {},
   "outputs": [],
   "source": [
    "def prime_factorization(n):\n",
    "  if n == 1:\n",
    "    return []\n",
    "  elif n == 2:\n",
    "    return [2]\n",
    "  elif n % 2 == 0:\n",
    "    return [2] + prime_factorization(n // 2)\n",
    "  else:\n",
    "    for i in range(3, int(n ** 0.5) + 1, 2):\n",
    "      if n % i == 0:\n",
    "        return [i] + prime_factorization(n // i)\n",
    "    return [n]\n",
    "\n",
    "print(prime_factorization(12))"
   ]
  },
  {
   "attachments": {},
   "cell_type": "markdown",
   "metadata": {},
   "source": [
    "### $$\\textbf{Danke für eure Aufmerksamkeit!}$$\n",
    "<hr>  "
   ]
  }
 ],
 "metadata": {
  "celltoolbar": "Slideshow",
  "kernelspec": {
   "display_name": "Python 3 (ipykernel)",
   "language": "python",
   "name": "python3"
  },
  "language_info": {
   "codemirror_mode": {
    "name": "ipython",
    "version": 3
   },
   "file_extension": ".py",
   "mimetype": "text/x-python",
   "name": "python",
   "nbconvert_exporter": "python",
   "pygments_lexer": "ipython3",
   "version": "3.11.3"
  }
 },
 "nbformat": 4,
 "nbformat_minor": 1
}
